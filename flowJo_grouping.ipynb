{
 "cells": [
  {
   "cell_type": "code",
   "execution_count": null,
   "metadata": {},
   "outputs": [],
   "source": [
    "import pandas as pd\n",
    "#import numpy as np\n",
    "#import statsmodels.api as sm\n",
    "#import statsmodels.formula.api as smf\n",
    "\n",
    "#import pzfxlib as pz\n",
    "#from openpyxl import Workbook\n",
    "#from openpyxl.utils import get_column_letter\n"
   ]
  },
  {
   "cell_type": "code",
   "execution_count": null,
   "metadata": {},
   "outputs": [],
   "source": [
    "#paste Mouse Grouping as you defines structure in Prism\n",
    "group_columns = ['Group','id']\n",
    "group_tbl = pd.read_csv(\"flowJo_grouping_id.csv\", \n",
    "                        sep='\\t',\n",
    "                       dtype={\"group\":str, \"id\":str})\n",
    "group_tbl"
   ]
  },
  {
   "cell_type": "code",
   "execution_count": null,
   "metadata": {},
   "outputs": [],
   "source": [
    "flow_df = pd.read_clipboard(sep='\\t')\n",
    "flow_df"
   ]
  },
  {
   "cell_type": "code",
   "execution_count": null,
   "metadata": {},
   "outputs": [],
   "source": [
    "flow_df= flow_df.dropna(subset=['TUBE NAME'])\n",
    "df_merge_col = pd.merge(group_tbl, flow_df, left_on='id',right_on='TUBE NAME',how='left')\n",
    "df_merge_col.to_clipboard(sep='\\t')\n",
    "df_merge_col.shape\n"
   ]
  },
  {
   "cell_type": "code",
   "execution_count": null,
   "metadata": {},
   "outputs": [],
   "source": []
  }
 ],
 "metadata": {
  "kernelspec": {
   "display_name": "Python 3",
   "language": "python",
   "name": "python3"
  },
  "language_info": {
   "codemirror_mode": {
    "name": "ipython",
    "version": 3
   },
   "file_extension": ".py",
   "mimetype": "text/x-python",
   "name": "python",
   "nbconvert_exporter": "python",
   "pygments_lexer": "ipython3",
   "version": "3.7.3"
  }
 },
 "nbformat": 4,
 "nbformat_minor": 2
}
