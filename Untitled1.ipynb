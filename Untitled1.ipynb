{
 "cells": [
  {
   "cell_type": "code",
   "execution_count": 1,
   "metadata": {},
   "outputs": [],
   "source": [
    "import pandas as pd\n",
    "import numpy as np\n",
    "import plotly.express as px\n",
    "#import qgrid\n",
    "#import statsmodels.api as sm\n",
    "#import statsmodels.formula.api as smf\n",
    "\n",
    "#paste Mouse Grouping as you defines structure in Prism\n",
    "#group_columns = ['Group','id']\n",
    "B75_group_tbl = pd.read_csv(\"B75-group.csv\", \n",
    "                        sep=',',\n",
    "                       dtype={\"group\":str, \"id\":str})\n",
    "\n",
    "B73_group_tbl = pd.read_csv(\"B73-group.csv\", \n",
    "                        sep=',',\n",
    "                       dtype={\"group\":str, \"id\":str})\n",
    "#load bleed timepoints RNA Ct value from excel\n",
    "B73_excel = pd.ExcelFile('B73 RNA MX1 HPRT1 Ct.xlsx')\n",
    "B73_sheets = B73_excel.sheet_names\n",
    "B73_timepoints = B73_sheets\n",
    "\n",
    "B75_excel = pd.ExcelFile('B75 RNA MX1 HPRT1 Ct.xlsx')\n",
    "B75_sheets = B75_excel.sheet_names\n",
    "B75_timepoints = B75_sheets\n",
    "\n",
    "\n",
    "def setBarcode(row):\n",
    "    return row['time-point'] + ':' + row['id']\n",
    "\n",
    "def setCt_ratio(row):\n",
    "    return row['MX1'] / row['HPRT1'] \n",
    "\n",
    "def updateFoldChange (cohort_excel_file, cohort_group_tbl):\n",
    "    cohort_excel = pd.ExcelFile(cohort_excel_file)\n",
    "    cohort_sheets = cohort_excel.sheet_names\n",
    "    df_timepoints = pd.DataFrame()\n",
    "    for i in cohort_sheets:\n",
    "        df = pd.read_excel(cohort_excel,i)\n",
    "        df['id'] = df['id'].astype(str)\n",
    "        df = cohort_group_tbl.merge(df, on='id',how='left')\n",
    "\n",
    "        df['time-point'] = i\n",
    "        df['Barcode'] = df.apply(setBarcode, axis =1)\n",
    "        df['Ct ratio'] = df['MX1'].div(df['HPRT1'], axis =\"index\") # normalize by HPRT1\n",
    "        df['Log Ct'] = -np.log(df['Ct ratio'])  # negative log transformation scale\n",
    "        \n",
    "        #df_control = pd.DataFrame()\n",
    "        df_control = df.loc[df['Group'] == 'Uninfected Control']\n",
    "        controlAvgRef_Mean = df_control['HPRT1'].mean()\n",
    "        controlAvgTarget_Mean = df_control['MX1'].mean()\n",
    "        \n",
    "        # normailze delta Ct = MX1 of samples - average value MX1 of uninfected samples\n",
    "        df['delta MX1'] ='0.0'\n",
    "        df['delta HPRT1'] ='0.0'\n",
    "        df['delta-delta Ct'] ='0.0'\n",
    "        df['Fold Change'] ='0.0'\n",
    "        df['delta MX1'] = df['delta MX1'].astype(float)\n",
    "        df['delta HPRT1'] = df['delta HPRT1'].astype(float)\n",
    "        df['delta-delta Ct'] = df['delta-delta Ct'].astype(float)\n",
    "        df['Fold Change'] = df['Fold Change'].astype(float)\n",
    "        \n",
    "        df['delta MX1'] = df['MX1'] - controlAvgTarget_Mean        \n",
    "        df['delta HPRT1'] = df['HPRT1'] - controlAvgRef_Mean\n",
    "        df['delta-delta Ct'] = df['delta MX1'] - df['delta HPRT1']\n",
    "        df['Fold Change'] = 2 ** -df['delta-delta Ct']\n",
    "\n",
    "        #(lambda x : timepointPreFix + x if x !='id' else x)\n",
    "        #np.where(df['id'] == cohort_group_tbl['id'], cohort_group_tbl['Group'], NaN)\n",
    "        df_timepoints = df_timepoints.append(df)\n",
    "        \n",
    "    df_timepoints = df_timepoints.dropna(subset=['Fold Change'])\n",
    "    df_timepoints = df_timepoints.reset_index(drop = True)\n",
    "        \n",
    "    return df_timepoints\n",
    "\n"
   ]
  },
  {
   "cell_type": "code",
   "execution_count": 2,
   "metadata": {},
   "outputs": [],
   "source": [
    "df_B73delta = pd.DataFrame()\n",
    "df_B73delta = updateFoldChange(cohort_excel_file = 'B73 RNA MX1 HPRT1 Ct.xlsx', cohort_group_tbl = B73_group_tbl )\n"
   ]
  },
  {
   "cell_type": "code",
   "execution_count": 3,
   "metadata": {},
   "outputs": [
    {
     "data": {
      "text/html": [
       "<div>\n",
       "<style scoped>\n",
       "    .dataframe tbody tr th:only-of-type {\n",
       "        vertical-align: middle;\n",
       "    }\n",
       "\n",
       "    .dataframe tbody tr th {\n",
       "        vertical-align: top;\n",
       "    }\n",
       "\n",
       "    .dataframe thead th {\n",
       "        text-align: right;\n",
       "    }\n",
       "</style>\n",
       "<table border=\"1\" class=\"dataframe\">\n",
       "  <thead>\n",
       "    <tr style=\"text-align: right;\">\n",
       "      <th></th>\n",
       "      <th>Group</th>\n",
       "      <th>id</th>\n",
       "      <th>HPRT1</th>\n",
       "      <th>MX1</th>\n",
       "      <th>time-point</th>\n",
       "      <th>Barcode</th>\n",
       "      <th>Ct ratio</th>\n",
       "      <th>Log Ct</th>\n",
       "      <th>delta MX1</th>\n",
       "      <th>delta HPRT1</th>\n",
       "      <th>delta-delta Ct</th>\n",
       "      <th>Fold Change</th>\n",
       "    </tr>\n",
       "  </thead>\n",
       "  <tbody>\n",
       "    <tr>\n",
       "      <th>0</th>\n",
       "      <td>HIV + Tumor</td>\n",
       "      <td>1</td>\n",
       "      <td>34.943608</td>\n",
       "      <td>31.195005</td>\n",
       "      <td>Bleed 9-15</td>\n",
       "      <td>Bleed 9-15:1</td>\n",
       "      <td>0.892724</td>\n",
       "      <td>0.113478</td>\n",
       "      <td>0.635336</td>\n",
       "      <td>0.104163</td>\n",
       "      <td>0.531174</td>\n",
       "      <td>0.691992</td>\n",
       "    </tr>\n",
       "    <tr>\n",
       "      <th>1</th>\n",
       "      <td>HIV + Tumor</td>\n",
       "      <td>2</td>\n",
       "      <td>35.344452</td>\n",
       "      <td>30.630255</td>\n",
       "      <td>Bleed 9-15</td>\n",
       "      <td>Bleed 9-15:2</td>\n",
       "      <td>0.866621</td>\n",
       "      <td>0.143153</td>\n",
       "      <td>0.070586</td>\n",
       "      <td>0.505007</td>\n",
       "      <td>-0.434421</td>\n",
       "      <td>1.351368</td>\n",
       "    </tr>\n",
       "    <tr>\n",
       "      <th>2</th>\n",
       "      <td>HIV + Tumor</td>\n",
       "      <td>3</td>\n",
       "      <td>34.704113</td>\n",
       "      <td>30.400849</td>\n",
       "      <td>Bleed 9-15</td>\n",
       "      <td>Bleed 9-15:3</td>\n",
       "      <td>0.876001</td>\n",
       "      <td>0.132388</td>\n",
       "      <td>-0.158820</td>\n",
       "      <td>-0.135333</td>\n",
       "      <td>-0.023487</td>\n",
       "      <td>1.016413</td>\n",
       "    </tr>\n",
       "    <tr>\n",
       "      <th>3</th>\n",
       "      <td>HIV + Tumor + ART</td>\n",
       "      <td>4</td>\n",
       "      <td>35.427787</td>\n",
       "      <td>30.966617</td>\n",
       "      <td>Bleed 9-15</td>\n",
       "      <td>Bleed 9-15:4</td>\n",
       "      <td>0.874077</td>\n",
       "      <td>0.134587</td>\n",
       "      <td>0.406948</td>\n",
       "      <td>0.588342</td>\n",
       "      <td>-0.181394</td>\n",
       "      <td>1.133979</td>\n",
       "    </tr>\n",
       "    <tr>\n",
       "      <th>4</th>\n",
       "      <td>HIV</td>\n",
       "      <td>6</td>\n",
       "      <td>33.669394</td>\n",
       "      <td>29.769826</td>\n",
       "      <td>Bleed 9-15</td>\n",
       "      <td>Bleed 9-15:6</td>\n",
       "      <td>0.884181</td>\n",
       "      <td>0.123094</td>\n",
       "      <td>-0.789843</td>\n",
       "      <td>-1.170052</td>\n",
       "      <td>0.380208</td>\n",
       "      <td>0.768327</td>\n",
       "    </tr>\n",
       "    <tr>\n",
       "      <th>...</th>\n",
       "      <td>...</td>\n",
       "      <td>...</td>\n",
       "      <td>...</td>\n",
       "      <td>...</td>\n",
       "      <td>...</td>\n",
       "      <td>...</td>\n",
       "      <td>...</td>\n",
       "      <td>...</td>\n",
       "      <td>...</td>\n",
       "      <td>...</td>\n",
       "      <td>...</td>\n",
       "      <td>...</td>\n",
       "    </tr>\n",
       "    <tr>\n",
       "      <th>104</th>\n",
       "      <td>HIV + Tumor + ART</td>\n",
       "      <td>24</td>\n",
       "      <td>31.334651</td>\n",
       "      <td>27.942491</td>\n",
       "      <td>Bleed 10-28</td>\n",
       "      <td>Bleed 10-28:24</td>\n",
       "      <td>0.891744</td>\n",
       "      <td>0.114576</td>\n",
       "      <td>-0.678923</td>\n",
       "      <td>1.002457</td>\n",
       "      <td>-1.681380</td>\n",
       "      <td>3.207346</td>\n",
       "    </tr>\n",
       "    <tr>\n",
       "      <th>105</th>\n",
       "      <td>HIV + Tumor + ART</td>\n",
       "      <td>26</td>\n",
       "      <td>29.556524</td>\n",
       "      <td>26.938424</td>\n",
       "      <td>Bleed 10-28</td>\n",
       "      <td>Bleed 10-28:26</td>\n",
       "      <td>0.911421</td>\n",
       "      <td>0.092751</td>\n",
       "      <td>-1.682989</td>\n",
       "      <td>-0.775669</td>\n",
       "      <td>-0.907320</td>\n",
       "      <td>1.875558</td>\n",
       "    </tr>\n",
       "    <tr>\n",
       "      <th>106</th>\n",
       "      <td>HIV + Tumor + ART</td>\n",
       "      <td>27</td>\n",
       "      <td>30.480466</td>\n",
       "      <td>27.847981</td>\n",
       "      <td>Bleed 10-28</td>\n",
       "      <td>Bleed 10-28:27</td>\n",
       "      <td>0.913634</td>\n",
       "      <td>0.090326</td>\n",
       "      <td>-0.773432</td>\n",
       "      <td>0.148273</td>\n",
       "      <td>-0.921705</td>\n",
       "      <td>1.894352</td>\n",
       "    </tr>\n",
       "    <tr>\n",
       "      <th>107</th>\n",
       "      <td>HIV + Tumor + ART</td>\n",
       "      <td>28</td>\n",
       "      <td>29.140179</td>\n",
       "      <td>27.613281</td>\n",
       "      <td>Bleed 10-28</td>\n",
       "      <td>Bleed 10-28:28</td>\n",
       "      <td>0.947602</td>\n",
       "      <td>0.053821</td>\n",
       "      <td>-1.008132</td>\n",
       "      <td>-1.192014</td>\n",
       "      <td>0.183882</td>\n",
       "      <td>0.880331</td>\n",
       "    </tr>\n",
       "    <tr>\n",
       "      <th>108</th>\n",
       "      <td>HIV + Tumor + ART</td>\n",
       "      <td>29</td>\n",
       "      <td>30.314612</td>\n",
       "      <td>27.824386</td>\n",
       "      <td>Bleed 10-28</td>\n",
       "      <td>Bleed 10-28:29</td>\n",
       "      <td>0.917854</td>\n",
       "      <td>0.085717</td>\n",
       "      <td>-0.797028</td>\n",
       "      <td>-0.017581</td>\n",
       "      <td>-0.779446</td>\n",
       "      <td>1.716472</td>\n",
       "    </tr>\n",
       "  </tbody>\n",
       "</table>\n",
       "<p>109 rows × 12 columns</p>\n",
       "</div>"
      ],
      "text/plain": [
       "                 Group  id      HPRT1        MX1   time-point         Barcode  \\\n",
       "0          HIV + Tumor   1  34.943608  31.195005   Bleed 9-15    Bleed 9-15:1   \n",
       "1          HIV + Tumor   2  35.344452  30.630255   Bleed 9-15    Bleed 9-15:2   \n",
       "2          HIV + Tumor   3  34.704113  30.400849   Bleed 9-15    Bleed 9-15:3   \n",
       "3    HIV + Tumor + ART   4  35.427787  30.966617   Bleed 9-15    Bleed 9-15:4   \n",
       "4                  HIV   6  33.669394  29.769826   Bleed 9-15    Bleed 9-15:6   \n",
       "..                 ...  ..        ...        ...          ...             ...   \n",
       "104  HIV + Tumor + ART  24  31.334651  27.942491  Bleed 10-28  Bleed 10-28:24   \n",
       "105  HIV + Tumor + ART  26  29.556524  26.938424  Bleed 10-28  Bleed 10-28:26   \n",
       "106  HIV + Tumor + ART  27  30.480466  27.847981  Bleed 10-28  Bleed 10-28:27   \n",
       "107  HIV + Tumor + ART  28  29.140179  27.613281  Bleed 10-28  Bleed 10-28:28   \n",
       "108  HIV + Tumor + ART  29  30.314612  27.824386  Bleed 10-28  Bleed 10-28:29   \n",
       "\n",
       "     Ct ratio    Log Ct  delta MX1  delta HPRT1  delta-delta Ct  Fold Change  \n",
       "0    0.892724  0.113478   0.635336     0.104163        0.531174     0.691992  \n",
       "1    0.866621  0.143153   0.070586     0.505007       -0.434421     1.351368  \n",
       "2    0.876001  0.132388  -0.158820    -0.135333       -0.023487     1.016413  \n",
       "3    0.874077  0.134587   0.406948     0.588342       -0.181394     1.133979  \n",
       "4    0.884181  0.123094  -0.789843    -1.170052        0.380208     0.768327  \n",
       "..        ...       ...        ...          ...             ...          ...  \n",
       "104  0.891744  0.114576  -0.678923     1.002457       -1.681380     3.207346  \n",
       "105  0.911421  0.092751  -1.682989    -0.775669       -0.907320     1.875558  \n",
       "106  0.913634  0.090326  -0.773432     0.148273       -0.921705     1.894352  \n",
       "107  0.947602  0.053821  -1.008132    -1.192014        0.183882     0.880331  \n",
       "108  0.917854  0.085717  -0.797028    -0.017581       -0.779446     1.716472  \n",
       "\n",
       "[109 rows x 12 columns]"
      ]
     },
     "execution_count": 3,
     "metadata": {},
     "output_type": "execute_result"
    }
   ],
   "source": [
    "df_B73delta"
   ]
  },
  {
   "cell_type": "code",
   "execution_count": 5,
   "metadata": {},
   "outputs": [
    {
     "data": {
      "application/vnd.plotly.v1+json": {
       "config": {
        "plotlyServerURL": "https://plot.ly"
       },
       "data": [
        {
         "alignmentgroup": "True",
         "boxpoints": "all",
         "hovertemplate": "Group=HIV + Tumor<br>time-point=%{x}<br>Fold Change=%{y}<extra></extra>",
         "legendgroup": "HIV + Tumor",
         "marker": {
          "color": "#636efa"
         },
         "name": "HIV + Tumor",
         "notched": false,
         "offsetgroup": "HIV + Tumor",
         "orientation": "v",
         "showlegend": true,
         "type": "box",
         "x": [
          "Bleed 9-15",
          "Bleed 9-15",
          "Bleed 9-15",
          "Bleed 9-15",
          "Bleed 9-15",
          "Bleed 9-30",
          "Bleed 9-30",
          "Bleed 9-30",
          "Bleed 9-30",
          "Bleed 9-30",
          "Bleed 10-13",
          "Bleed 10-13",
          "Bleed 10-13",
          "Bleed 10-13",
          "Bleed 10-13",
          "Bleed 10-28",
          "Bleed 10-28",
          "Bleed 10-28",
          "Bleed 10-28",
          "Bleed 10-28"
         ],
         "x0": " ",
         "xaxis": "x",
         "y": [
          0.6919915995597786,
          1.3513684693093178,
          1.0164133283918368,
          1.457929318582794,
          1.5128750938996716,
          0.9874266144939107,
          1.772513806792173,
          1.2228118619654547,
          2.18691738317586,
          3.640257370617142,
          1.7145752898219782,
          4.057627068040517,
          2.0265071891909465,
          2.1438643864497497,
          2.3704922320000246,
          2.7354292704098095,
          2.7812695280823383,
          3.140158195461177,
          2.076928196981623,
          2.0507170155974084
         ],
         "y0": " ",
         "yaxis": "y"
        },
        {
         "alignmentgroup": "True",
         "boxpoints": "all",
         "hovertemplate": "Group=HIV + Tumor + ART<br>time-point=%{x}<br>Fold Change=%{y}<extra></extra>",
         "legendgroup": "HIV + Tumor + ART",
         "marker": {
          "color": "#EF553B"
         },
         "name": "HIV + Tumor + ART",
         "notched": false,
         "offsetgroup": "HIV + Tumor + ART",
         "orientation": "v",
         "showlegend": true,
         "type": "box",
         "x": [
          "Bleed 9-15",
          "Bleed 9-15",
          "Bleed 9-15",
          "Bleed 9-15",
          "Bleed 9-15",
          "Bleed 9-15",
          "Bleed 9-15",
          "Bleed 9-15",
          "Bleed 9-15",
          "Bleed 9-15",
          "Bleed 9-15",
          "Bleed 9-30",
          "Bleed 9-30",
          "Bleed 9-30",
          "Bleed 9-30",
          "Bleed 9-30",
          "Bleed 9-30",
          "Bleed 9-30",
          "Bleed 9-30",
          "Bleed 9-30",
          "Bleed 9-30",
          "Bleed 9-30",
          "Bleed 9-30",
          "Bleed 10-13",
          "Bleed 10-13",
          "Bleed 10-13",
          "Bleed 10-13",
          "Bleed 10-13",
          "Bleed 10-13",
          "Bleed 10-13",
          "Bleed 10-13",
          "Bleed 10-13",
          "Bleed 10-13",
          "Bleed 10-13",
          "Bleed 10-28",
          "Bleed 10-28",
          "Bleed 10-28",
          "Bleed 10-28",
          "Bleed 10-28",
          "Bleed 10-28",
          "Bleed 10-28",
          "Bleed 10-28",
          "Bleed 10-28",
          "Bleed 10-28",
          "Bleed 10-28"
         ],
         "x0": " ",
         "xaxis": "x",
         "y": [
          1.1339790638182932,
          0.7666997756724335,
          0.7450983666442248,
          0.7548949876997189,
          0.9462643613665213,
          1.475652331135529,
          0.7848396988134301,
          1.0141072577107277,
          1.655109059154523,
          1.5065465850120767,
          1.2752194001655985,
          0.9559934746080193,
          0.6990296210695308,
          1.3917463626704463,
          0.9725335308123155,
          0.9683606817175663,
          0.6797540430210163,
          1.372020773392812,
          0.9339760251690645,
          2.917883944858772,
          2.355978831168597,
          1.8607719401332912,
          1.8433036636013804,
          1.485954378355407,
          0.8188959902283733,
          1.2690779876295049,
          1.1999427019413684,
          0.9452095702556771,
          1.0187890536275699,
          1.4322262456312207,
          1.3380516132563425,
          1.7264939093297476,
          1.2029462982873451,
          2.179515435753983,
          2.1856086679448885,
          0.7809653453847709,
          2.1080567341071443,
          1.3647178962164757,
          1.6905797488758632,
          1.897733826594874,
          3.207345662504396,
          1.8755580688265159,
          1.8943520910136578,
          0.8803310725589054,
          1.7164721536613485
         ],
         "y0": " ",
         "yaxis": "y"
        },
        {
         "alignmentgroup": "True",
         "boxpoints": "all",
         "hovertemplate": "Group=HIV<br>time-point=%{x}<br>Fold Change=%{y}<extra></extra>",
         "legendgroup": "HIV",
         "marker": {
          "color": "#00cc96"
         },
         "name": "HIV",
         "notched": false,
         "offsetgroup": "HIV",
         "orientation": "v",
         "showlegend": true,
         "type": "box",
         "x": [
          "Bleed 9-15",
          "Bleed 9-15",
          "Bleed 9-15",
          "Bleed 9-15",
          "Bleed 9-15",
          "Bleed 9-30",
          "Bleed 9-30",
          "Bleed 9-30",
          "Bleed 9-30",
          "Bleed 9-30",
          "Bleed 10-13",
          "Bleed 10-13",
          "Bleed 10-13",
          "Bleed 10-13",
          "Bleed 10-13",
          "Bleed 10-28",
          "Bleed 10-28",
          "Bleed 10-28",
          "Bleed 10-28",
          "Bleed 10-28"
         ],
         "x0": " ",
         "xaxis": "x",
         "y": [
          0.7683267149433669,
          1.4215244740613342,
          1.0216277171706174,
          2.0119873250528872,
          1.001025252827159,
          1.1880483938505615,
          1.8467910291494132,
          1.3301307788730763,
          4.813221165289092,
          1.36967819904489,
          1.4254417777699318,
          2.4969504310561277,
          1.729699123576073,
          2.778029576340055,
          2.4193665927029455,
          2.2618611281269585,
          2.9590227360489583,
          2.4435101095472067,
          2.4531240146084095,
          4.642767393135864
         ],
         "y0": " ",
         "yaxis": "y"
        },
        {
         "alignmentgroup": "True",
         "boxpoints": "all",
         "hovertemplate": "Group=Tumor only<br>time-point=%{x}<br>Fold Change=%{y}<extra></extra>",
         "legendgroup": "Tumor only",
         "marker": {
          "color": "#ab63fa"
         },
         "name": "Tumor only",
         "notched": false,
         "offsetgroup": "Tumor only",
         "orientation": "v",
         "showlegend": true,
         "type": "box",
         "x": [
          "Bleed 9-15",
          "Bleed 9-15",
          "Bleed 9-15",
          "Bleed 9-30",
          "Bleed 9-30",
          "Bleed 9-30",
          "Bleed 10-13",
          "Bleed 10-13",
          "Bleed 10-13",
          "Bleed 10-28",
          "Bleed 10-28",
          "Bleed 10-28"
         ],
         "x0": " ",
         "xaxis": "x",
         "y": [
          0.9186067775972805,
          0.961440178856361,
          0.9303123229836379,
          1.0079071401378812,
          0.9292839564453099,
          1.0831512678514899,
          1.2290932912792614,
          1.0439775546276528,
          1.5625254322317021,
          1.3140719719839675,
          1.9576905034426724,
          1.0753194710352405
         ],
         "y0": " ",
         "yaxis": "y"
        },
        {
         "alignmentgroup": "True",
         "boxpoints": "all",
         "hovertemplate": "Group=Uninfected Control<br>time-point=%{x}<br>Fold Change=%{y}<extra></extra>",
         "legendgroup": "Uninfected Control",
         "marker": {
          "color": "#FFA15A"
         },
         "name": "Uninfected Control",
         "notched": false,
         "offsetgroup": "Uninfected Control",
         "orientation": "v",
         "showlegend": true,
         "type": "box",
         "x": [
          "Bleed 9-15",
          "Bleed 9-15",
          "Bleed 9-15",
          "Bleed 9-30",
          "Bleed 9-30",
          "Bleed 9-30",
          "Bleed 10-13",
          "Bleed 10-13",
          "Bleed 10-13",
          "Bleed 10-28",
          "Bleed 10-28",
          "Bleed 10-28"
         ],
         "x0": " ",
         "xaxis": "x",
         "y": [
          0.6798336822853039,
          1.5348235563841246,
          0.9583824803896471,
          0.8323992004207778,
          1.3129138894249444,
          0.9150231943030595,
          0.8455240759722482,
          0.8824732650523871,
          1.3402087974478263,
          1.0989503891356311,
          0.9127376980672945,
          0.9969558466954387
         ],
         "y0": " ",
         "yaxis": "y"
        }
       ],
       "layout": {
        "autosize": true,
        "boxmode": "group",
        "legend": {
         "title": {
          "text": "Group"
         },
         "tracegroupgap": 0
        },
        "margin": {
         "t": 60
        },
        "template": {
         "data": {
          "bar": [
           {
            "error_x": {
             "color": "#2a3f5f"
            },
            "error_y": {
             "color": "#2a3f5f"
            },
            "marker": {
             "line": {
              "color": "#E5ECF6",
              "width": 0.5
             }
            },
            "type": "bar"
           }
          ],
          "barpolar": [
           {
            "marker": {
             "line": {
              "color": "#E5ECF6",
              "width": 0.5
             }
            },
            "type": "barpolar"
           }
          ],
          "carpet": [
           {
            "aaxis": {
             "endlinecolor": "#2a3f5f",
             "gridcolor": "white",
             "linecolor": "white",
             "minorgridcolor": "white",
             "startlinecolor": "#2a3f5f"
            },
            "baxis": {
             "endlinecolor": "#2a3f5f",
             "gridcolor": "white",
             "linecolor": "white",
             "minorgridcolor": "white",
             "startlinecolor": "#2a3f5f"
            },
            "type": "carpet"
           }
          ],
          "choropleth": [
           {
            "colorbar": {
             "outlinewidth": 0,
             "ticks": ""
            },
            "type": "choropleth"
           }
          ],
          "contour": [
           {
            "colorbar": {
             "outlinewidth": 0,
             "ticks": ""
            },
            "colorscale": [
             [
              0,
              "#0d0887"
             ],
             [
              0.1111111111111111,
              "#46039f"
             ],
             [
              0.2222222222222222,
              "#7201a8"
             ],
             [
              0.3333333333333333,
              "#9c179e"
             ],
             [
              0.4444444444444444,
              "#bd3786"
             ],
             [
              0.5555555555555556,
              "#d8576b"
             ],
             [
              0.6666666666666666,
              "#ed7953"
             ],
             [
              0.7777777777777778,
              "#fb9f3a"
             ],
             [
              0.8888888888888888,
              "#fdca26"
             ],
             [
              1,
              "#f0f921"
             ]
            ],
            "type": "contour"
           }
          ],
          "contourcarpet": [
           {
            "colorbar": {
             "outlinewidth": 0,
             "ticks": ""
            },
            "type": "contourcarpet"
           }
          ],
          "heatmap": [
           {
            "colorbar": {
             "outlinewidth": 0,
             "ticks": ""
            },
            "colorscale": [
             [
              0,
              "#0d0887"
             ],
             [
              0.1111111111111111,
              "#46039f"
             ],
             [
              0.2222222222222222,
              "#7201a8"
             ],
             [
              0.3333333333333333,
              "#9c179e"
             ],
             [
              0.4444444444444444,
              "#bd3786"
             ],
             [
              0.5555555555555556,
              "#d8576b"
             ],
             [
              0.6666666666666666,
              "#ed7953"
             ],
             [
              0.7777777777777778,
              "#fb9f3a"
             ],
             [
              0.8888888888888888,
              "#fdca26"
             ],
             [
              1,
              "#f0f921"
             ]
            ],
            "type": "heatmap"
           }
          ],
          "heatmapgl": [
           {
            "colorbar": {
             "outlinewidth": 0,
             "ticks": ""
            },
            "colorscale": [
             [
              0,
              "#0d0887"
             ],
             [
              0.1111111111111111,
              "#46039f"
             ],
             [
              0.2222222222222222,
              "#7201a8"
             ],
             [
              0.3333333333333333,
              "#9c179e"
             ],
             [
              0.4444444444444444,
              "#bd3786"
             ],
             [
              0.5555555555555556,
              "#d8576b"
             ],
             [
              0.6666666666666666,
              "#ed7953"
             ],
             [
              0.7777777777777778,
              "#fb9f3a"
             ],
             [
              0.8888888888888888,
              "#fdca26"
             ],
             [
              1,
              "#f0f921"
             ]
            ],
            "type": "heatmapgl"
           }
          ],
          "histogram": [
           {
            "marker": {
             "colorbar": {
              "outlinewidth": 0,
              "ticks": ""
             }
            },
            "type": "histogram"
           }
          ],
          "histogram2d": [
           {
            "colorbar": {
             "outlinewidth": 0,
             "ticks": ""
            },
            "colorscale": [
             [
              0,
              "#0d0887"
             ],
             [
              0.1111111111111111,
              "#46039f"
             ],
             [
              0.2222222222222222,
              "#7201a8"
             ],
             [
              0.3333333333333333,
              "#9c179e"
             ],
             [
              0.4444444444444444,
              "#bd3786"
             ],
             [
              0.5555555555555556,
              "#d8576b"
             ],
             [
              0.6666666666666666,
              "#ed7953"
             ],
             [
              0.7777777777777778,
              "#fb9f3a"
             ],
             [
              0.8888888888888888,
              "#fdca26"
             ],
             [
              1,
              "#f0f921"
             ]
            ],
            "type": "histogram2d"
           }
          ],
          "histogram2dcontour": [
           {
            "colorbar": {
             "outlinewidth": 0,
             "ticks": ""
            },
            "colorscale": [
             [
              0,
              "#0d0887"
             ],
             [
              0.1111111111111111,
              "#46039f"
             ],
             [
              0.2222222222222222,
              "#7201a8"
             ],
             [
              0.3333333333333333,
              "#9c179e"
             ],
             [
              0.4444444444444444,
              "#bd3786"
             ],
             [
              0.5555555555555556,
              "#d8576b"
             ],
             [
              0.6666666666666666,
              "#ed7953"
             ],
             [
              0.7777777777777778,
              "#fb9f3a"
             ],
             [
              0.8888888888888888,
              "#fdca26"
             ],
             [
              1,
              "#f0f921"
             ]
            ],
            "type": "histogram2dcontour"
           }
          ],
          "mesh3d": [
           {
            "colorbar": {
             "outlinewidth": 0,
             "ticks": ""
            },
            "type": "mesh3d"
           }
          ],
          "parcoords": [
           {
            "line": {
             "colorbar": {
              "outlinewidth": 0,
              "ticks": ""
             }
            },
            "type": "parcoords"
           }
          ],
          "pie": [
           {
            "automargin": true,
            "type": "pie"
           }
          ],
          "scatter": [
           {
            "marker": {
             "colorbar": {
              "outlinewidth": 0,
              "ticks": ""
             }
            },
            "type": "scatter"
           }
          ],
          "scatter3d": [
           {
            "line": {
             "colorbar": {
              "outlinewidth": 0,
              "ticks": ""
             }
            },
            "marker": {
             "colorbar": {
              "outlinewidth": 0,
              "ticks": ""
             }
            },
            "type": "scatter3d"
           }
          ],
          "scattercarpet": [
           {
            "marker": {
             "colorbar": {
              "outlinewidth": 0,
              "ticks": ""
             }
            },
            "type": "scattercarpet"
           }
          ],
          "scattergeo": [
           {
            "marker": {
             "colorbar": {
              "outlinewidth": 0,
              "ticks": ""
             }
            },
            "type": "scattergeo"
           }
          ],
          "scattergl": [
           {
            "marker": {
             "colorbar": {
              "outlinewidth": 0,
              "ticks": ""
             }
            },
            "type": "scattergl"
           }
          ],
          "scattermapbox": [
           {
            "marker": {
             "colorbar": {
              "outlinewidth": 0,
              "ticks": ""
             }
            },
            "type": "scattermapbox"
           }
          ],
          "scatterpolar": [
           {
            "marker": {
             "colorbar": {
              "outlinewidth": 0,
              "ticks": ""
             }
            },
            "type": "scatterpolar"
           }
          ],
          "scatterpolargl": [
           {
            "marker": {
             "colorbar": {
              "outlinewidth": 0,
              "ticks": ""
             }
            },
            "type": "scatterpolargl"
           }
          ],
          "scatterternary": [
           {
            "marker": {
             "colorbar": {
              "outlinewidth": 0,
              "ticks": ""
             }
            },
            "type": "scatterternary"
           }
          ],
          "surface": [
           {
            "colorbar": {
             "outlinewidth": 0,
             "ticks": ""
            },
            "colorscale": [
             [
              0,
              "#0d0887"
             ],
             [
              0.1111111111111111,
              "#46039f"
             ],
             [
              0.2222222222222222,
              "#7201a8"
             ],
             [
              0.3333333333333333,
              "#9c179e"
             ],
             [
              0.4444444444444444,
              "#bd3786"
             ],
             [
              0.5555555555555556,
              "#d8576b"
             ],
             [
              0.6666666666666666,
              "#ed7953"
             ],
             [
              0.7777777777777778,
              "#fb9f3a"
             ],
             [
              0.8888888888888888,
              "#fdca26"
             ],
             [
              1,
              "#f0f921"
             ]
            ],
            "type": "surface"
           }
          ],
          "table": [
           {
            "cells": {
             "fill": {
              "color": "#EBF0F8"
             },
             "line": {
              "color": "white"
             }
            },
            "header": {
             "fill": {
              "color": "#C8D4E3"
             },
             "line": {
              "color": "white"
             }
            },
            "type": "table"
           }
          ]
         },
         "layout": {
          "annotationdefaults": {
           "arrowcolor": "#2a3f5f",
           "arrowhead": 0,
           "arrowwidth": 1
          },
          "coloraxis": {
           "colorbar": {
            "outlinewidth": 0,
            "ticks": ""
           }
          },
          "colorscale": {
           "diverging": [
            [
             0,
             "#8e0152"
            ],
            [
             0.1,
             "#c51b7d"
            ],
            [
             0.2,
             "#de77ae"
            ],
            [
             0.3,
             "#f1b6da"
            ],
            [
             0.4,
             "#fde0ef"
            ],
            [
             0.5,
             "#f7f7f7"
            ],
            [
             0.6,
             "#e6f5d0"
            ],
            [
             0.7,
             "#b8e186"
            ],
            [
             0.8,
             "#7fbc41"
            ],
            [
             0.9,
             "#4d9221"
            ],
            [
             1,
             "#276419"
            ]
           ],
           "sequential": [
            [
             0,
             "#0d0887"
            ],
            [
             0.1111111111111111,
             "#46039f"
            ],
            [
             0.2222222222222222,
             "#7201a8"
            ],
            [
             0.3333333333333333,
             "#9c179e"
            ],
            [
             0.4444444444444444,
             "#bd3786"
            ],
            [
             0.5555555555555556,
             "#d8576b"
            ],
            [
             0.6666666666666666,
             "#ed7953"
            ],
            [
             0.7777777777777778,
             "#fb9f3a"
            ],
            [
             0.8888888888888888,
             "#fdca26"
            ],
            [
             1,
             "#f0f921"
            ]
           ],
           "sequentialminus": [
            [
             0,
             "#0d0887"
            ],
            [
             0.1111111111111111,
             "#46039f"
            ],
            [
             0.2222222222222222,
             "#7201a8"
            ],
            [
             0.3333333333333333,
             "#9c179e"
            ],
            [
             0.4444444444444444,
             "#bd3786"
            ],
            [
             0.5555555555555556,
             "#d8576b"
            ],
            [
             0.6666666666666666,
             "#ed7953"
            ],
            [
             0.7777777777777778,
             "#fb9f3a"
            ],
            [
             0.8888888888888888,
             "#fdca26"
            ],
            [
             1,
             "#f0f921"
            ]
           ]
          },
          "colorway": [
           "#636efa",
           "#EF553B",
           "#00cc96",
           "#ab63fa",
           "#FFA15A",
           "#19d3f3",
           "#FF6692",
           "#B6E880",
           "#FF97FF",
           "#FECB52"
          ],
          "font": {
           "color": "#2a3f5f"
          },
          "geo": {
           "bgcolor": "white",
           "lakecolor": "white",
           "landcolor": "#E5ECF6",
           "showlakes": true,
           "showland": true,
           "subunitcolor": "white"
          },
          "hoverlabel": {
           "align": "left"
          },
          "hovermode": "closest",
          "mapbox": {
           "style": "light"
          },
          "paper_bgcolor": "white",
          "plot_bgcolor": "#E5ECF6",
          "polar": {
           "angularaxis": {
            "gridcolor": "white",
            "linecolor": "white",
            "ticks": ""
           },
           "bgcolor": "#E5ECF6",
           "radialaxis": {
            "gridcolor": "white",
            "linecolor": "white",
            "ticks": ""
           }
          },
          "scene": {
           "xaxis": {
            "backgroundcolor": "#E5ECF6",
            "gridcolor": "white",
            "gridwidth": 2,
            "linecolor": "white",
            "showbackground": true,
            "ticks": "",
            "zerolinecolor": "white"
           },
           "yaxis": {
            "backgroundcolor": "#E5ECF6",
            "gridcolor": "white",
            "gridwidth": 2,
            "linecolor": "white",
            "showbackground": true,
            "ticks": "",
            "zerolinecolor": "white"
           },
           "zaxis": {
            "backgroundcolor": "#E5ECF6",
            "gridcolor": "white",
            "gridwidth": 2,
            "linecolor": "white",
            "showbackground": true,
            "ticks": "",
            "zerolinecolor": "white"
           }
          },
          "shapedefaults": {
           "line": {
            "color": "#2a3f5f"
           }
          },
          "ternary": {
           "aaxis": {
            "gridcolor": "white",
            "linecolor": "white",
            "ticks": ""
           },
           "baxis": {
            "gridcolor": "white",
            "linecolor": "white",
            "ticks": ""
           },
           "bgcolor": "#E5ECF6",
           "caxis": {
            "gridcolor": "white",
            "linecolor": "white",
            "ticks": ""
           }
          },
          "title": {
           "x": 0.05
          },
          "xaxis": {
           "automargin": true,
           "gridcolor": "white",
           "linecolor": "white",
           "ticks": "",
           "title": {
            "standoff": 15
           },
           "zerolinecolor": "white",
           "zerolinewidth": 2
          },
          "yaxis": {
           "automargin": true,
           "gridcolor": "white",
           "linecolor": "white",
           "ticks": "",
           "title": {
            "standoff": 15
           },
           "zerolinecolor": "white",
           "zerolinewidth": 2
          }
         }
        },
        "xaxis": {
         "anchor": "y",
         "autorange": true,
         "domain": [
          0,
          1
         ],
         "range": [
          -0.8362157854110381,
          3.728221883442686
         ],
         "title": {
          "text": "time-point"
         },
         "type": "category"
        },
        "yaxis": {
         "anchor": "x",
         "autorange": true,
         "domain": [
          0,
          1
         ],
         "range": [
          0.4501169806727898,
          5.042858227637319
         ],
         "title": {
          "text": "Fold Change"
         },
         "type": "linear"
        }
       }
      },
      "image/png": "[encoded data removed]",
      "text/html": [
       "<div>                            <div id=\"e3aee547-7d35-405e-a26d-d20c66efd298\" class=\"plotly-graph-div\" style=\"height:525px; width:100%;\"></div>            <script type=\"text/javascript\">                require([\"plotly\"], function(Plotly) {                    window.PLOTLYENV=window.PLOTLYENV || {};                                    if (document.getElementById(\"e3aee547-7d35-405e-a26d-d20c66efd298\")) {                    Plotly.newPlot(                        \"e3aee547-7d35-405e-a26d-d20c66efd298\",                        [{\"alignmentgroup\": \"True\", \"boxpoints\": \"all\", \"hovertemplate\": \"Group=HIV + Tumor<br>time-point=%{x}<br>Fold Change=%{y}<extra></extra>\", \"legendgroup\": \"HIV + Tumor\", \"marker\": {\"color\": \"#636efa\"}, \"name\": \"HIV + Tumor\", \"notched\": false, \"offsetgroup\": \"HIV + Tumor\", \"orientation\": \"v\", \"showlegend\": true, \"type\": \"box\", \"x\": [\"Bleed 9-15\", \"Bleed 9-15\", \"Bleed 9-15\", \"Bleed 9-15\", \"Bleed 9-15\", \"Bleed 9-30\", \"Bleed 9-30\", \"Bleed 9-30\", \"Bleed 9-30\", \"Bleed 9-30\", \"Bleed 10-13\", \"Bleed 10-13\", \"Bleed 10-13\", \"Bleed 10-13\", \"Bleed 10-13\", \"Bleed 10-28\", \"Bleed 10-28\", \"Bleed 10-28\", \"Bleed 10-28\", \"Bleed 10-28\"], \"x0\": \" \", \"xaxis\": \"x\", \"y\": [0.6919915995597786, 1.3513684693093178, 1.0164133283918368, 1.457929318582794, 1.5128750938996716, 0.9874266144939107, 1.772513806792173, 1.2228118619654547, 2.18691738317586, 3.640257370617142, 1.7145752898219782, 4.057627068040517, 2.0265071891909465, 2.1438643864497497, 2.3704922320000246, 2.7354292704098095, 2.7812695280823383, 3.140158195461177, 2.076928196981623, 2.0507170155974084], \"y0\": \" \", \"yaxis\": \"y\"}, {\"alignmentgroup\": \"True\", \"boxpoints\": \"all\", \"hovertemplate\": \"Group=HIV + Tumor + ART<br>time-point=%{x}<br>Fold Change=%{y}<extra></extra>\", \"legendgroup\": \"HIV + Tumor + ART\", \"marker\": {\"color\": \"#EF553B\"}, \"name\": \"HIV + Tumor + ART\", \"notched\": false, \"offsetgroup\": \"HIV + Tumor + ART\", \"orientation\": \"v\", \"showlegend\": true, \"type\": \"box\", \"x\": [\"Bleed 9-15\", \"Bleed 9-15\", \"Bleed 9-15\", \"Bleed 9-15\", \"Bleed 9-15\", \"Bleed 9-15\", \"Bleed 9-15\", \"Bleed 9-15\", \"Bleed 9-15\", \"Bleed 9-15\", \"Bleed 9-15\", \"Bleed 9-30\", \"Bleed 9-30\", \"Bleed 9-30\", \"Bleed 9-30\", \"Bleed 9-30\", \"Bleed 9-30\", \"Bleed 9-30\", \"Bleed 9-30\", \"Bleed 9-30\", \"Bleed 9-30\", \"Bleed 9-30\", \"Bleed 9-30\", \"Bleed 10-13\", \"Bleed 10-13\", \"Bleed 10-13\", \"Bleed 10-13\", \"Bleed 10-13\", \"Bleed 10-13\", \"Bleed 10-13\", \"Bleed 10-13\", \"Bleed 10-13\", \"Bleed 10-13\", \"Bleed 10-13\", \"Bleed 10-28\", \"Bleed 10-28\", \"Bleed 10-28\", \"Bleed 10-28\", \"Bleed 10-28\", \"Bleed 10-28\", \"Bleed 10-28\", \"Bleed 10-28\", \"Bleed 10-28\", \"Bleed 10-28\", \"Bleed 10-28\"], \"x0\": \" \", \"xaxis\": \"x\", \"y\": [1.1339790638182932, 0.7666997756724335, 0.7450983666442248, 0.7548949876997189, 0.9462643613665213, 1.475652331135529, 0.7848396988134301, 1.0141072577107277, 1.655109059154523, 1.5065465850120767, 1.2752194001655985, 0.9559934746080193, 0.6990296210695308, 1.3917463626704463, 0.9725335308123155, 0.9683606817175663, 0.6797540430210163, 1.372020773392812, 0.9339760251690645, 2.917883944858772, 2.355978831168597, 1.8607719401332912, 1.8433036636013804, 1.485954378355407, 0.8188959902283733, 1.2690779876295049, 1.1999427019413684, 0.9452095702556771, 1.0187890536275699, 1.4322262456312207, 1.3380516132563425, 1.7264939093297476, 1.2029462982873451, 2.179515435753983, 2.1856086679448885, 0.7809653453847709, 2.1080567341071443, 1.3647178962164757, 1.6905797488758632, 1.897733826594874, 3.207345662504396, 1.8755580688265159, 1.8943520910136578, 0.8803310725589054, 1.7164721536613485], \"y0\": \" \", \"yaxis\": \"y\"}, {\"alignmentgroup\": \"True\", \"boxpoints\": \"all\", \"hovertemplate\": \"Group=HIV<br>time-point=%{x}<br>Fold Change=%{y}<extra></extra>\", \"legendgroup\": \"HIV\", \"marker\": {\"color\": \"#00cc96\"}, \"name\": \"HIV\", \"notched\": false, \"offsetgroup\": \"HIV\", \"orientation\": \"v\", \"showlegend\": true, \"type\": \"box\", \"x\": [\"Bleed 9-15\", \"Bleed 9-15\", \"Bleed 9-15\", \"Bleed 9-15\", \"Bleed 9-15\", \"Bleed 9-30\", \"Bleed 9-30\", \"Bleed 9-30\", \"Bleed 9-30\", \"Bleed 9-30\", \"Bleed 10-13\", \"Bleed 10-13\", \"Bleed 10-13\", \"Bleed 10-13\", \"Bleed 10-13\", \"Bleed 10-28\", \"Bleed 10-28\", \"Bleed 10-28\", \"Bleed 10-28\", \"Bleed 10-28\"], \"x0\": \" \", \"xaxis\": \"x\", \"y\": [0.7683267149433669, 1.4215244740613342, 1.0216277171706174, 2.0119873250528872, 1.001025252827159, 1.1880483938505615, 1.8467910291494132, 1.3301307788730763, 4.813221165289092, 1.36967819904489, 1.4254417777699318, 2.4969504310561277, 1.729699123576073, 2.778029576340055, 2.4193665927029455, 2.2618611281269585, 2.9590227360489583, 2.4435101095472067, 2.4531240146084095, 4.642767393135864], \"y0\": \" \", \"yaxis\": \"y\"}, {\"alignmentgroup\": \"True\", \"boxpoints\": \"all\", \"hovertemplate\": \"Group=Tumor only<br>time-point=%{x}<br>Fold Change=%{y}<extra></extra>\", \"legendgroup\": \"Tumor only\", \"marker\": {\"color\": \"#ab63fa\"}, \"name\": \"Tumor only\", \"notched\": false, \"offsetgroup\": \"Tumor only\", \"orientation\": \"v\", \"showlegend\": true, \"type\": \"box\", \"x\": [\"Bleed 9-15\", \"Bleed 9-15\", \"Bleed 9-15\", \"Bleed 9-30\", \"Bleed 9-30\", \"Bleed 9-30\", \"Bleed 10-13\", \"Bleed 10-13\", \"Bleed 10-13\", \"Bleed 10-28\", \"Bleed 10-28\", \"Bleed 10-28\"], \"x0\": \" \", \"xaxis\": \"x\", \"y\": [0.9186067775972805, 0.961440178856361, 0.9303123229836379, 1.0079071401378812, 0.9292839564453099, 1.0831512678514899, 1.2290932912792614, 1.0439775546276528, 1.5625254322317021, 1.3140719719839675, 1.9576905034426724, 1.0753194710352405], \"y0\": \" \", \"yaxis\": \"y\"}, {\"alignmentgroup\": \"True\", \"boxpoints\": \"all\", \"hovertemplate\": \"Group=Uninfected Control<br>time-point=%{x}<br>Fold Change=%{y}<extra></extra>\", \"legendgroup\": \"Uninfected Control\", \"marker\": {\"color\": \"#FFA15A\"}, \"name\": \"Uninfected Control\", \"notched\": false, \"offsetgroup\": \"Uninfected Control\", \"orientation\": \"v\", \"showlegend\": true, \"type\": \"box\", \"x\": [\"Bleed 9-15\", \"Bleed 9-15\", \"Bleed 9-15\", \"Bleed 9-30\", \"Bleed 9-30\", \"Bleed 9-30\", \"Bleed 10-13\", \"Bleed 10-13\", \"Bleed 10-13\", \"Bleed 10-28\", \"Bleed 10-28\", \"Bleed 10-28\"], \"x0\": \" \", \"xaxis\": \"x\", \"y\": [0.6798336822853039, 1.5348235563841246, 0.9583824803896471, 0.8323992004207778, 1.3129138894249444, 0.9150231943030595, 0.8455240759722482, 0.8824732650523871, 1.3402087974478263, 1.0989503891356311, 0.9127376980672945, 0.9969558466954387], \"y0\": \" \", \"yaxis\": \"y\"}],                        {\"boxmode\": \"group\", \"legend\": {\"title\": {\"text\": \"Group\"}, \"tracegroupgap\": 0}, \"margin\": {\"t\": 60}, \"template\": {\"data\": {\"bar\": [{\"error_x\": {\"color\": \"#2a3f5f\"}, \"error_y\": {\"color\": \"#2a3f5f\"}, \"marker\": {\"line\": {\"color\": \"#E5ECF6\", \"width\": 0.5}}, \"type\": \"bar\"}], \"barpolar\": [{\"marker\": {\"line\": {\"color\": \"#E5ECF6\", \"width\": 0.5}}, \"type\": \"barpolar\"}], \"carpet\": [{\"aaxis\": {\"endlinecolor\": \"#2a3f5f\", \"gridcolor\": \"white\", \"linecolor\": \"white\", \"minorgridcolor\": \"white\", \"startlinecolor\": \"#2a3f5f\"}, \"baxis\": {\"endlinecolor\": \"#2a3f5f\", \"gridcolor\": \"white\", \"linecolor\": \"white\", \"minorgridcolor\": \"white\", \"startlinecolor\": \"#2a3f5f\"}, \"type\": \"carpet\"}], \"choropleth\": [{\"colorbar\": {\"outlinewidth\": 0, \"ticks\": \"\"}, \"type\": \"choropleth\"}], \"contour\": [{\"colorbar\": {\"outlinewidth\": 0, \"ticks\": \"\"}, \"colorscale\": [[0.0, \"#0d0887\"], [0.1111111111111111, \"#46039f\"], [0.2222222222222222, \"#7201a8\"], [0.3333333333333333, \"#9c179e\"], [0.4444444444444444, \"#bd3786\"], [0.5555555555555556, \"#d8576b\"], [0.6666666666666666, \"#ed7953\"], [0.7777777777777778, \"#fb9f3a\"], [0.8888888888888888, \"#fdca26\"], [1.0, \"#f0f921\"]], \"type\": \"contour\"}], \"contourcarpet\": [{\"colorbar\": {\"outlinewidth\": 0, \"ticks\": \"\"}, \"type\": \"contourcarpet\"}], \"heatmap\": [{\"colorbar\": {\"outlinewidth\": 0, \"ticks\": \"\"}, \"colorscale\": [[0.0, \"#0d0887\"], [0.1111111111111111, \"#46039f\"], [0.2222222222222222, \"#7201a8\"], [0.3333333333333333, \"#9c179e\"], [0.4444444444444444, \"#bd3786\"], [0.5555555555555556, \"#d8576b\"], [0.6666666666666666, \"#ed7953\"], [0.7777777777777778, \"#fb9f3a\"], [0.8888888888888888, \"#fdca26\"], [1.0, \"#f0f921\"]], \"type\": \"heatmap\"}], \"heatmapgl\": [{\"colorbar\": {\"outlinewidth\": 0, \"ticks\": \"\"}, \"colorscale\": [[0.0, \"#0d0887\"], [0.1111111111111111, \"#46039f\"], [0.2222222222222222, \"#7201a8\"], [0.3333333333333333, \"#9c179e\"], [0.4444444444444444, \"#bd3786\"], [0.5555555555555556, \"#d8576b\"], [0.6666666666666666, \"#ed7953\"], [0.7777777777777778, \"#fb9f3a\"], [0.8888888888888888, \"#fdca26\"], [1.0, \"#f0f921\"]], \"type\": \"heatmapgl\"}], \"histogram\": [{\"marker\": {\"colorbar\": {\"outlinewidth\": 0, \"ticks\": \"\"}}, \"type\": \"histogram\"}], \"histogram2d\": [{\"colorbar\": {\"outlinewidth\": 0, \"ticks\": \"\"}, \"colorscale\": [[0.0, \"#0d0887\"], [0.1111111111111111, \"#46039f\"], [0.2222222222222222, \"#7201a8\"], [0.3333333333333333, \"#9c179e\"], [0.4444444444444444, \"#bd3786\"], [0.5555555555555556, \"#d8576b\"], [0.6666666666666666, \"#ed7953\"], [0.7777777777777778, \"#fb9f3a\"], [0.8888888888888888, \"#fdca26\"], [1.0, \"#f0f921\"]], \"type\": \"histogram2d\"}], \"histogram2dcontour\": [{\"colorbar\": {\"outlinewidth\": 0, \"ticks\": \"\"}, \"colorscale\": [[0.0, \"#0d0887\"], [0.1111111111111111, \"#46039f\"], [0.2222222222222222, \"#7201a8\"], [0.3333333333333333, \"#9c179e\"], [0.4444444444444444, \"#bd3786\"], [0.5555555555555556, \"#d8576b\"], [0.6666666666666666, \"#ed7953\"], [0.7777777777777778, \"#fb9f3a\"], [0.8888888888888888, \"#fdca26\"], [1.0, \"#f0f921\"]], \"type\": \"histogram2dcontour\"}], \"mesh3d\": [{\"colorbar\": {\"outlinewidth\": 0, \"ticks\": \"\"}, \"type\": \"mesh3d\"}], \"parcoords\": [{\"line\": {\"colorbar\": {\"outlinewidth\": 0, \"ticks\": \"\"}}, \"type\": \"parcoords\"}], \"pie\": [{\"automargin\": true, \"type\": \"pie\"}], \"scatter\": [{\"marker\": {\"colorbar\": {\"outlinewidth\": 0, \"ticks\": \"\"}}, \"type\": \"scatter\"}], \"scatter3d\": [{\"line\": {\"colorbar\": {\"outlinewidth\": 0, \"ticks\": \"\"}}, \"marker\": {\"colorbar\": {\"outlinewidth\": 0, \"ticks\": \"\"}}, \"type\": \"scatter3d\"}], \"scattercarpet\": [{\"marker\": {\"colorbar\": {\"outlinewidth\": 0, \"ticks\": \"\"}}, \"type\": \"scattercarpet\"}], \"scattergeo\": [{\"marker\": {\"colorbar\": {\"outlinewidth\": 0, \"ticks\": \"\"}}, \"type\": \"scattergeo\"}], \"scattergl\": [{\"marker\": {\"colorbar\": {\"outlinewidth\": 0, \"ticks\": \"\"}}, \"type\": \"scattergl\"}], \"scattermapbox\": [{\"marker\": {\"colorbar\": {\"outlinewidth\": 0, \"ticks\": \"\"}}, \"type\": \"scattermapbox\"}], \"scatterpolar\": [{\"marker\": {\"colorbar\": {\"outlinewidth\": 0, \"ticks\": \"\"}}, \"type\": \"scatterpolar\"}], \"scatterpolargl\": [{\"marker\": {\"colorbar\": {\"outlinewidth\": 0, \"ticks\": \"\"}}, \"type\": \"scatterpolargl\"}], \"scatterternary\": [{\"marker\": {\"colorbar\": {\"outlinewidth\": 0, \"ticks\": \"\"}}, \"type\": \"scatterternary\"}], \"surface\": [{\"colorbar\": {\"outlinewidth\": 0, \"ticks\": \"\"}, \"colorscale\": [[0.0, \"#0d0887\"], [0.1111111111111111, \"#46039f\"], [0.2222222222222222, \"#7201a8\"], [0.3333333333333333, \"#9c179e\"], [0.4444444444444444, \"#bd3786\"], [0.5555555555555556, \"#d8576b\"], [0.6666666666666666, \"#ed7953\"], [0.7777777777777778, \"#fb9f3a\"], [0.8888888888888888, \"#fdca26\"], [1.0, \"#f0f921\"]], \"type\": \"surface\"}], \"table\": [{\"cells\": {\"fill\": {\"color\": \"#EBF0F8\"}, \"line\": {\"color\": \"white\"}}, \"header\": {\"fill\": {\"color\": \"#C8D4E3\"}, \"line\": {\"color\": \"white\"}}, \"type\": \"table\"}]}, \"layout\": {\"annotationdefaults\": {\"arrowcolor\": \"#2a3f5f\", \"arrowhead\": 0, \"arrowwidth\": 1}, \"coloraxis\": {\"colorbar\": {\"outlinewidth\": 0, \"ticks\": \"\"}}, \"colorscale\": {\"diverging\": [[0, \"#8e0152\"], [0.1, \"#c51b7d\"], [0.2, \"#de77ae\"], [0.3, \"#f1b6da\"], [0.4, \"#fde0ef\"], [0.5, \"#f7f7f7\"], [0.6, \"#e6f5d0\"], [0.7, \"#b8e186\"], [0.8, \"#7fbc41\"], [0.9, \"#4d9221\"], [1, \"#276419\"]], \"sequential\": [[0.0, \"#0d0887\"], [0.1111111111111111, \"#46039f\"], [0.2222222222222222, \"#7201a8\"], [0.3333333333333333, \"#9c179e\"], [0.4444444444444444, \"#bd3786\"], [0.5555555555555556, \"#d8576b\"], [0.6666666666666666, \"#ed7953\"], [0.7777777777777778, \"#fb9f3a\"], [0.8888888888888888, \"#fdca26\"], [1.0, \"#f0f921\"]], \"sequentialminus\": [[0.0, \"#0d0887\"], [0.1111111111111111, \"#46039f\"], [0.2222222222222222, \"#7201a8\"], [0.3333333333333333, \"#9c179e\"], [0.4444444444444444, \"#bd3786\"], [0.5555555555555556, \"#d8576b\"], [0.6666666666666666, \"#ed7953\"], [0.7777777777777778, \"#fb9f3a\"], [0.8888888888888888, \"#fdca26\"], [1.0, \"#f0f921\"]]}, \"colorway\": [\"#636efa\", \"#EF553B\", \"#00cc96\", \"#ab63fa\", \"#FFA15A\", \"#19d3f3\", \"#FF6692\", \"#B6E880\", \"#FF97FF\", \"#FECB52\"], \"font\": {\"color\": \"#2a3f5f\"}, \"geo\": {\"bgcolor\": \"white\", \"lakecolor\": \"white\", \"landcolor\": \"#E5ECF6\", \"showlakes\": true, \"showland\": true, \"subunitcolor\": \"white\"}, \"hoverlabel\": {\"align\": \"left\"}, \"hovermode\": \"closest\", \"mapbox\": {\"style\": \"light\"}, \"paper_bgcolor\": \"white\", \"plot_bgcolor\": \"#E5ECF6\", \"polar\": {\"angularaxis\": {\"gridcolor\": \"white\", \"linecolor\": \"white\", \"ticks\": \"\"}, \"bgcolor\": \"#E5ECF6\", \"radialaxis\": {\"gridcolor\": \"white\", \"linecolor\": \"white\", \"ticks\": \"\"}}, \"scene\": {\"xaxis\": {\"backgroundcolor\": \"#E5ECF6\", \"gridcolor\": \"white\", \"gridwidth\": 2, \"linecolor\": \"white\", \"showbackground\": true, \"ticks\": \"\", \"zerolinecolor\": \"white\"}, \"yaxis\": {\"backgroundcolor\": \"#E5ECF6\", \"gridcolor\": \"white\", \"gridwidth\": 2, \"linecolor\": \"white\", \"showbackground\": true, \"ticks\": \"\", \"zerolinecolor\": \"white\"}, \"zaxis\": {\"backgroundcolor\": \"#E5ECF6\", \"gridcolor\": \"white\", \"gridwidth\": 2, \"linecolor\": \"white\", \"showbackground\": true, \"ticks\": \"\", \"zerolinecolor\": \"white\"}}, \"shapedefaults\": {\"line\": {\"color\": \"#2a3f5f\"}}, \"ternary\": {\"aaxis\": {\"gridcolor\": \"white\", \"linecolor\": \"white\", \"ticks\": \"\"}, \"baxis\": {\"gridcolor\": \"white\", \"linecolor\": \"white\", \"ticks\": \"\"}, \"bgcolor\": \"#E5ECF6\", \"caxis\": {\"gridcolor\": \"white\", \"linecolor\": \"white\", \"ticks\": \"\"}}, \"title\": {\"x\": 0.05}, \"xaxis\": {\"automargin\": true, \"gridcolor\": \"white\", \"linecolor\": \"white\", \"ticks\": \"\", \"title\": {\"standoff\": 15}, \"zerolinecolor\": \"white\", \"zerolinewidth\": 2}, \"yaxis\": {\"automargin\": true, \"gridcolor\": \"white\", \"linecolor\": \"white\", \"ticks\": \"\", \"title\": {\"standoff\": 15}, \"zerolinecolor\": \"white\", \"zerolinewidth\": 2}}}, \"xaxis\": {\"anchor\": \"y\", \"domain\": [0.0, 1.0], \"title\": {\"text\": \"time-point\"}}, \"yaxis\": {\"anchor\": \"x\", \"domain\": [0.0, 1.0], \"title\": {\"text\": \"Fold Change\"}}},                        {\"responsive\": true}                    ).then(function(){\n",
       "                            \n",
       "var gd = document.getElementById('e3aee547-7d35-405e-a26d-d20c66efd298');\n",
       "var x = new MutationObserver(function (mutations, observer) {{\n",
       "        var display = window.getComputedStyle(gd).display;\n",
       "        if (!display || display === 'none') {{\n",
       "            console.log([gd, 'removed!']);\n",
       "            Plotly.purge(gd);\n",
       "            observer.disconnect();\n",
       "        }}\n",
       "}});\n",
       "\n",
       "// Listen for the removal of the full notebook cells\n",
       "var notebookContainer = gd.closest('#notebook-container');\n",
       "if (notebookContainer) {{\n",
       "    x.observe(notebookContainer, {childList: true});\n",
       "}}\n",
       "\n",
       "// Listen for the clearing of the current output cell\n",
       "var outputEl = gd.closest('.output');\n",
       "if (outputEl) {{\n",
       "    x.observe(outputEl, {childList: true});\n",
       "}}\n",
       "\n",
       "                        })                };                });            </script>        </div>"
      ]
     },
     "metadata": {},
     "output_type": "display_data"
    }
   ],
   "source": [
    "fig = px.box(df_B73delta, x=\"time-point\", y=\"Fold Change\", color=\"Group\", notched=False, points =\"all\")\n",
    "fig.show()"
   ]
  },
  {
   "cell_type": "code",
   "execution_count": 6,
   "metadata": {},
   "outputs": [
    {
     "data": {
      "application/vnd.plotly.v1+json": {
       "config": {
        "plotlyServerURL": "https://plot.ly"
       },
       "data": [
        {
         "alignmentgroup": "True",
         "boxpoints": "all",
         "fillcolor": "rgba(255,255,255,0)",
         "hoveron": "points",
         "hovertemplate": "Group=HIV + Tumor<br>time-point=%{x}<br>Fold Change=%{y}<extra></extra>",
         "legendgroup": "HIV + Tumor",
         "line": {
          "color": "rgba(255,255,255,0)"
         },
         "marker": {
          "color": "#636efa"
         },
         "name": "HIV + Tumor",
         "offsetgroup": "HIV + Tumor",
         "orientation": "v",
         "pointpos": 0,
         "showlegend": true,
         "type": "box",
         "x": [
          "Bleed 9-15",
          "Bleed 9-15",
          "Bleed 9-15",
          "Bleed 9-15",
          "Bleed 9-15",
          "Bleed 9-30",
          "Bleed 9-30",
          "Bleed 9-30",
          "Bleed 9-30",
          "Bleed 9-30",
          "Bleed 10-13",
          "Bleed 10-13",
          "Bleed 10-13",
          "Bleed 10-13",
          "Bleed 10-13",
          "Bleed 10-28",
          "Bleed 10-28",
          "Bleed 10-28",
          "Bleed 10-28",
          "Bleed 10-28"
         ],
         "x0": " ",
         "xaxis": "x",
         "y": [
          0.6919915995597786,
          1.3513684693093178,
          1.0164133283918368,
          1.457929318582794,
          1.5128750938996716,
          0.9874266144939107,
          1.772513806792173,
          1.2228118619654547,
          2.18691738317586,
          3.640257370617142,
          1.7145752898219782,
          4.057627068040517,
          2.0265071891909465,
          2.1438643864497497,
          2.3704922320000246,
          2.7354292704098095,
          2.7812695280823383,
          3.140158195461177,
          2.076928196981623,
          2.0507170155974084
         ],
         "y0": " ",
         "yaxis": "y"
        },
        {
         "alignmentgroup": "True",
         "boxpoints": "all",
         "fillcolor": "rgba(255,255,255,0)",
         "hoveron": "points",
         "hovertemplate": "Group=HIV + Tumor + ART<br>time-point=%{x}<br>Fold Change=%{y}<extra></extra>",
         "legendgroup": "HIV + Tumor + ART",
         "line": {
          "color": "rgba(255,255,255,0)"
         },
         "marker": {
          "color": "#EF553B"
         },
         "name": "HIV + Tumor + ART",
         "offsetgroup": "HIV + Tumor + ART",
         "orientation": "v",
         "pointpos": 0,
         "showlegend": true,
         "type": "box",
         "x": [
          "Bleed 9-15",
          "Bleed 9-15",
          "Bleed 9-15",
          "Bleed 9-15",
          "Bleed 9-15",
          "Bleed 9-15",
          "Bleed 9-15",
          "Bleed 9-15",
          "Bleed 9-15",
          "Bleed 9-15",
          "Bleed 9-15",
          "Bleed 9-30",
          "Bleed 9-30",
          "Bleed 9-30",
          "Bleed 9-30",
          "Bleed 9-30",
          "Bleed 9-30",
          "Bleed 9-30",
          "Bleed 9-30",
          "Bleed 9-30",
          "Bleed 9-30",
          "Bleed 9-30",
          "Bleed 9-30",
          "Bleed 10-13",
          "Bleed 10-13",
          "Bleed 10-13",
          "Bleed 10-13",
          "Bleed 10-13",
          "Bleed 10-13",
          "Bleed 10-13",
          "Bleed 10-13",
          "Bleed 10-13",
          "Bleed 10-13",
          "Bleed 10-13",
          "Bleed 10-28",
          "Bleed 10-28",
          "Bleed 10-28",
          "Bleed 10-28",
          "Bleed 10-28",
          "Bleed 10-28",
          "Bleed 10-28",
          "Bleed 10-28",
          "Bleed 10-28",
          "Bleed 10-28",
          "Bleed 10-28"
         ],
         "x0": " ",
         "xaxis": "x",
         "y": [
          1.1339790638182932,
          0.7666997756724335,
          0.7450983666442248,
          0.7548949876997189,
          0.9462643613665213,
          1.475652331135529,
          0.7848396988134301,
          1.0141072577107277,
          1.655109059154523,
          1.5065465850120767,
          1.2752194001655985,
          0.9559934746080193,
          0.6990296210695308,
          1.3917463626704463,
          0.9725335308123155,
          0.9683606817175663,
          0.6797540430210163,
          1.372020773392812,
          0.9339760251690645,
          2.917883944858772,
          2.355978831168597,
          1.8607719401332912,
          1.8433036636013804,
          1.485954378355407,
          0.8188959902283733,
          1.2690779876295049,
          1.1999427019413684,
          0.9452095702556771,
          1.0187890536275699,
          1.4322262456312207,
          1.3380516132563425,
          1.7264939093297476,
          1.2029462982873451,
          2.179515435753983,
          2.1856086679448885,
          0.7809653453847709,
          2.1080567341071443,
          1.3647178962164757,
          1.6905797488758632,
          1.897733826594874,
          3.207345662504396,
          1.8755580688265159,
          1.8943520910136578,
          0.8803310725589054,
          1.7164721536613485
         ],
         "y0": " ",
         "yaxis": "y"
        },
        {
         "alignmentgroup": "True",
         "boxpoints": "all",
         "fillcolor": "rgba(255,255,255,0)",
         "hoveron": "points",
         "hovertemplate": "Group=HIV<br>time-point=%{x}<br>Fold Change=%{y}<extra></extra>",
         "legendgroup": "HIV",
         "line": {
          "color": "rgba(255,255,255,0)"
         },
         "marker": {
          "color": "#00cc96"
         },
         "name": "HIV",
         "offsetgroup": "HIV",
         "orientation": "v",
         "pointpos": 0,
         "showlegend": true,
         "type": "box",
         "x": [
          "Bleed 9-15",
          "Bleed 9-15",
          "Bleed 9-15",
          "Bleed 9-15",
          "Bleed 9-15",
          "Bleed 9-30",
          "Bleed 9-30",
          "Bleed 9-30",
          "Bleed 9-30",
          "Bleed 9-30",
          "Bleed 10-13",
          "Bleed 10-13",
          "Bleed 10-13",
          "Bleed 10-13",
          "Bleed 10-13",
          "Bleed 10-28",
          "Bleed 10-28",
          "Bleed 10-28",
          "Bleed 10-28",
          "Bleed 10-28"
         ],
         "x0": " ",
         "xaxis": "x",
         "y": [
          0.7683267149433669,
          1.4215244740613342,
          1.0216277171706174,
          2.0119873250528872,
          1.001025252827159,
          1.1880483938505615,
          1.8467910291494132,
          1.3301307788730763,
          4.813221165289092,
          1.36967819904489,
          1.4254417777699318,
          2.4969504310561277,
          1.729699123576073,
          2.778029576340055,
          2.4193665927029455,
          2.2618611281269585,
          2.9590227360489583,
          2.4435101095472067,
          2.4531240146084095,
          4.642767393135864
         ],
         "y0": " ",
         "yaxis": "y"
        },
        {
         "alignmentgroup": "True",
         "boxpoints": "all",
         "fillcolor": "rgba(255,255,255,0)",
         "hoveron": "points",
         "hovertemplate": "Group=Tumor only<br>time-point=%{x}<br>Fold Change=%{y}<extra></extra>",
         "legendgroup": "Tumor only",
         "line": {
          "color": "rgba(255,255,255,0)"
         },
         "marker": {
          "color": "#ab63fa"
         },
         "name": "Tumor only",
         "offsetgroup": "Tumor only",
         "orientation": "v",
         "pointpos": 0,
         "showlegend": true,
         "type": "box",
         "x": [
          "Bleed 9-15",
          "Bleed 9-15",
          "Bleed 9-15",
          "Bleed 9-30",
          "Bleed 9-30",
          "Bleed 9-30",
          "Bleed 10-13",
          "Bleed 10-13",
          "Bleed 10-13",
          "Bleed 10-28",
          "Bleed 10-28",
          "Bleed 10-28"
         ],
         "x0": " ",
         "xaxis": "x",
         "y": [
          0.9186067775972805,
          0.961440178856361,
          0.9303123229836379,
          1.0079071401378812,
          0.9292839564453099,
          1.0831512678514899,
          1.2290932912792614,
          1.0439775546276528,
          1.5625254322317021,
          1.3140719719839675,
          1.9576905034426724,
          1.0753194710352405
         ],
         "y0": " ",
         "yaxis": "y"
        },
        {
         "alignmentgroup": "True",
         "boxpoints": "all",
         "fillcolor": "rgba(255,255,255,0)",
         "hoveron": "points",
         "hovertemplate": "Group=Uninfected Control<br>time-point=%{x}<br>Fold Change=%{y}<extra></extra>",
         "legendgroup": "Uninfected Control",
         "line": {
          "color": "rgba(255,255,255,0)"
         },
         "marker": {
          "color": "#FFA15A"
         },
         "name": "Uninfected Control",
         "offsetgroup": "Uninfected Control",
         "orientation": "v",
         "pointpos": 0,
         "showlegend": true,
         "type": "box",
         "x": [
          "Bleed 9-15",
          "Bleed 9-15",
          "Bleed 9-15",
          "Bleed 9-30",
          "Bleed 9-30",
          "Bleed 9-30",
          "Bleed 10-13",
          "Bleed 10-13",
          "Bleed 10-13",
          "Bleed 10-28",
          "Bleed 10-28",
          "Bleed 10-28"
         ],
         "x0": " ",
         "xaxis": "x",
         "y": [
          0.6798336822853039,
          1.5348235563841246,
          0.9583824803896471,
          0.8323992004207778,
          1.3129138894249444,
          0.9150231943030595,
          0.8455240759722482,
          0.8824732650523871,
          1.3402087974478263,
          1.0989503891356311,
          0.9127376980672945,
          0.9969558466954387
         ],
         "y0": " ",
         "yaxis": "y"
        }
       ],
       "layout": {
        "autosize": true,
        "boxmode": "group",
        "legend": {
         "title": {
          "text": "Group"
         },
         "tracegroupgap": 0
        },
        "margin": {
         "t": 60
        },
        "template": {
         "data": {
          "bar": [
           {
            "error_x": {
             "color": "#2a3f5f"
            },
            "error_y": {
             "color": "#2a3f5f"
            },
            "marker": {
             "line": {
              "color": "#E5ECF6",
              "width": 0.5
             }
            },
            "type": "bar"
           }
          ],
          "barpolar": [
           {
            "marker": {
             "line": {
              "color": "#E5ECF6",
              "width": 0.5
             }
            },
            "type": "barpolar"
           }
          ],
          "carpet": [
           {
            "aaxis": {
             "endlinecolor": "#2a3f5f",
             "gridcolor": "white",
             "linecolor": "white",
             "minorgridcolor": "white",
             "startlinecolor": "#2a3f5f"
            },
            "baxis": {
             "endlinecolor": "#2a3f5f",
             "gridcolor": "white",
             "linecolor": "white",
             "minorgridcolor": "white",
             "startlinecolor": "#2a3f5f"
            },
            "type": "carpet"
           }
          ],
          "choropleth": [
           {
            "colorbar": {
             "outlinewidth": 0,
             "ticks": ""
            },
            "type": "choropleth"
           }
          ],
          "contour": [
           {
            "colorbar": {
             "outlinewidth": 0,
             "ticks": ""
            },
            "colorscale": [
             [
              0,
              "#0d0887"
             ],
             [
              0.1111111111111111,
              "#46039f"
             ],
             [
              0.2222222222222222,
              "#7201a8"
             ],
             [
              0.3333333333333333,
              "#9c179e"
             ],
             [
              0.4444444444444444,
              "#bd3786"
             ],
             [
              0.5555555555555556,
              "#d8576b"
             ],
             [
              0.6666666666666666,
              "#ed7953"
             ],
             [
              0.7777777777777778,
              "#fb9f3a"
             ],
             [
              0.8888888888888888,
              "#fdca26"
             ],
             [
              1,
              "#f0f921"
             ]
            ],
            "type": "contour"
           }
          ],
          "contourcarpet": [
           {
            "colorbar": {
             "outlinewidth": 0,
             "ticks": ""
            },
            "type": "contourcarpet"
           }
          ],
          "heatmap": [
           {
            "colorbar": {
             "outlinewidth": 0,
             "ticks": ""
            },
            "colorscale": [
             [
              0,
              "#0d0887"
             ],
             [
              0.1111111111111111,
              "#46039f"
             ],
             [
              0.2222222222222222,
              "#7201a8"
             ],
             [
              0.3333333333333333,
              "#9c179e"
             ],
             [
              0.4444444444444444,
              "#bd3786"
             ],
             [
              0.5555555555555556,
              "#d8576b"
             ],
             [
              0.6666666666666666,
              "#ed7953"
             ],
             [
              0.7777777777777778,
              "#fb9f3a"
             ],
             [
              0.8888888888888888,
              "#fdca26"
             ],
             [
              1,
              "#f0f921"
             ]
            ],
            "type": "heatmap"
           }
          ],
          "heatmapgl": [
           {
            "colorbar": {
             "outlinewidth": 0,
             "ticks": ""
            },
            "colorscale": [
             [
              0,
              "#0d0887"
             ],
             [
              0.1111111111111111,
              "#46039f"
             ],
             [
              0.2222222222222222,
              "#7201a8"
             ],
             [
              0.3333333333333333,
              "#9c179e"
             ],
             [
              0.4444444444444444,
              "#bd3786"
             ],
             [
              0.5555555555555556,
              "#d8576b"
             ],
             [
              0.6666666666666666,
              "#ed7953"
             ],
             [
              0.7777777777777778,
              "#fb9f3a"
             ],
             [
              0.8888888888888888,
              "#fdca26"
             ],
             [
              1,
              "#f0f921"
             ]
            ],
            "type": "heatmapgl"
           }
          ],
          "histogram": [
           {
            "marker": {
             "colorbar": {
              "outlinewidth": 0,
              "ticks": ""
             }
            },
            "type": "histogram"
           }
          ],
          "histogram2d": [
           {
            "colorbar": {
             "outlinewidth": 0,
             "ticks": ""
            },
            "colorscale": [
             [
              0,
              "#0d0887"
             ],
             [
              0.1111111111111111,
              "#46039f"
             ],
             [
              0.2222222222222222,
              "#7201a8"
             ],
             [
              0.3333333333333333,
              "#9c179e"
             ],
             [
              0.4444444444444444,
              "#bd3786"
             ],
             [
              0.5555555555555556,
              "#d8576b"
             ],
             [
              0.6666666666666666,
              "#ed7953"
             ],
             [
              0.7777777777777778,
              "#fb9f3a"
             ],
             [
              0.8888888888888888,
              "#fdca26"
             ],
             [
              1,
              "#f0f921"
             ]
            ],
            "type": "histogram2d"
           }
          ],
          "histogram2dcontour": [
           {
            "colorbar": {
             "outlinewidth": 0,
             "ticks": ""
            },
            "colorscale": [
             [
              0,
              "#0d0887"
             ],
             [
              0.1111111111111111,
              "#46039f"
             ],
             [
              0.2222222222222222,
              "#7201a8"
             ],
             [
              0.3333333333333333,
              "#9c179e"
             ],
             [
              0.4444444444444444,
              "#bd3786"
             ],
             [
              0.5555555555555556,
              "#d8576b"
             ],
             [
              0.6666666666666666,
              "#ed7953"
             ],
             [
              0.7777777777777778,
              "#fb9f3a"
             ],
             [
              0.8888888888888888,
              "#fdca26"
             ],
             [
              1,
              "#f0f921"
             ]
            ],
            "type": "histogram2dcontour"
           }
          ],
          "mesh3d": [
           {
            "colorbar": {
             "outlinewidth": 0,
             "ticks": ""
            },
            "type": "mesh3d"
           }
          ],
          "parcoords": [
           {
            "line": {
             "colorbar": {
              "outlinewidth": 0,
              "ticks": ""
             }
            },
            "type": "parcoords"
           }
          ],
          "pie": [
           {
            "automargin": true,
            "type": "pie"
           }
          ],
          "scatter": [
           {
            "marker": {
             "colorbar": {
              "outlinewidth": 0,
              "ticks": ""
             }
            },
            "type": "scatter"
           }
          ],
          "scatter3d": [
           {
            "line": {
             "colorbar": {
              "outlinewidth": 0,
              "ticks": ""
             }
            },
            "marker": {
             "colorbar": {
              "outlinewidth": 0,
              "ticks": ""
             }
            },
            "type": "scatter3d"
           }
          ],
          "scattercarpet": [
           {
            "marker": {
             "colorbar": {
              "outlinewidth": 0,
              "ticks": ""
             }
            },
            "type": "scattercarpet"
           }
          ],
          "scattergeo": [
           {
            "marker": {
             "colorbar": {
              "outlinewidth": 0,
              "ticks": ""
             }
            },
            "type": "scattergeo"
           }
          ],
          "scattergl": [
           {
            "marker": {
             "colorbar": {
              "outlinewidth": 0,
              "ticks": ""
             }
            },
            "type": "scattergl"
           }
          ],
          "scattermapbox": [
           {
            "marker": {
             "colorbar": {
              "outlinewidth": 0,
              "ticks": ""
             }
            },
            "type": "scattermapbox"
           }
          ],
          "scatterpolar": [
           {
            "marker": {
             "colorbar": {
              "outlinewidth": 0,
              "ticks": ""
             }
            },
            "type": "scatterpolar"
           }
          ],
          "scatterpolargl": [
           {
            "marker": {
             "colorbar": {
              "outlinewidth": 0,
              "ticks": ""
             }
            },
            "type": "scatterpolargl"
           }
          ],
          "scatterternary": [
           {
            "marker": {
             "colorbar": {
              "outlinewidth": 0,
              "ticks": ""
             }
            },
            "type": "scatterternary"
           }
          ],
          "surface": [
           {
            "colorbar": {
             "outlinewidth": 0,
             "ticks": ""
            },
            "colorscale": [
             [
              0,
              "#0d0887"
             ],
             [
              0.1111111111111111,
              "#46039f"
             ],
             [
              0.2222222222222222,
              "#7201a8"
             ],
             [
              0.3333333333333333,
              "#9c179e"
             ],
             [
              0.4444444444444444,
              "#bd3786"
             ],
             [
              0.5555555555555556,
              "#d8576b"
             ],
             [
              0.6666666666666666,
              "#ed7953"
             ],
             [
              0.7777777777777778,
              "#fb9f3a"
             ],
             [
              0.8888888888888888,
              "#fdca26"
             ],
             [
              1,
              "#f0f921"
             ]
            ],
            "type": "surface"
           }
          ],
          "table": [
           {
            "cells": {
             "fill": {
              "color": "#EBF0F8"
             },
             "line": {
              "color": "white"
             }
            },
            "header": {
             "fill": {
              "color": "#C8D4E3"
             },
             "line": {
              "color": "white"
             }
            },
            "type": "table"
           }
          ]
         },
         "layout": {
          "annotationdefaults": {
           "arrowcolor": "#2a3f5f",
           "arrowhead": 0,
           "arrowwidth": 1
          },
          "coloraxis": {
           "colorbar": {
            "outlinewidth": 0,
            "ticks": ""
           }
          },
          "colorscale": {
           "diverging": [
            [
             0,
             "#8e0152"
            ],
            [
             0.1,
             "#c51b7d"
            ],
            [
             0.2,
             "#de77ae"
            ],
            [
             0.3,
             "#f1b6da"
            ],
            [
             0.4,
             "#fde0ef"
            ],
            [
             0.5,
             "#f7f7f7"
            ],
            [
             0.6,
             "#e6f5d0"
            ],
            [
             0.7,
             "#b8e186"
            ],
            [
             0.8,
             "#7fbc41"
            ],
            [
             0.9,
             "#4d9221"
            ],
            [
             1,
             "#276419"
            ]
           ],
           "sequential": [
            [
             0,
             "#0d0887"
            ],
            [
             0.1111111111111111,
             "#46039f"
            ],
            [
             0.2222222222222222,
             "#7201a8"
            ],
            [
             0.3333333333333333,
             "#9c179e"
            ],
            [
             0.4444444444444444,
             "#bd3786"
            ],
            [
             0.5555555555555556,
             "#d8576b"
            ],
            [
             0.6666666666666666,
             "#ed7953"
            ],
            [
             0.7777777777777778,
             "#fb9f3a"
            ],
            [
             0.8888888888888888,
             "#fdca26"
            ],
            [
             1,
             "#f0f921"
            ]
           ],
           "sequentialminus": [
            [
             0,
             "#0d0887"
            ],
            [
             0.1111111111111111,
             "#46039f"
            ],
            [
             0.2222222222222222,
             "#7201a8"
            ],
            [
             0.3333333333333333,
             "#9c179e"
            ],
            [
             0.4444444444444444,
             "#bd3786"
            ],
            [
             0.5555555555555556,
             "#d8576b"
            ],
            [
             0.6666666666666666,
             "#ed7953"
            ],
            [
             0.7777777777777778,
             "#fb9f3a"
            ],
            [
             0.8888888888888888,
             "#fdca26"
            ],
            [
             1,
             "#f0f921"
            ]
           ]
          },
          "colorway": [
           "#636efa",
           "#EF553B",
           "#00cc96",
           "#ab63fa",
           "#FFA15A",
           "#19d3f3",
           "#FF6692",
           "#B6E880",
           "#FF97FF",
           "#FECB52"
          ],
          "font": {
           "color": "#2a3f5f"
          },
          "geo": {
           "bgcolor": "white",
           "lakecolor": "white",
           "landcolor": "#E5ECF6",
           "showlakes": true,
           "showland": true,
           "subunitcolor": "white"
          },
          "hoverlabel": {
           "align": "left"
          },
          "hovermode": "closest",
          "mapbox": {
           "style": "light"
          },
          "paper_bgcolor": "white",
          "plot_bgcolor": "#E5ECF6",
          "polar": {
           "angularaxis": {
            "gridcolor": "white",
            "linecolor": "white",
            "ticks": ""
           },
           "bgcolor": "#E5ECF6",
           "radialaxis": {
            "gridcolor": "white",
            "linecolor": "white",
            "ticks": ""
           }
          },
          "scene": {
           "xaxis": {
            "backgroundcolor": "#E5ECF6",
            "gridcolor": "white",
            "gridwidth": 2,
            "linecolor": "white",
            "showbackground": true,
            "ticks": "",
            "zerolinecolor": "white"
           },
           "yaxis": {
            "backgroundcolor": "#E5ECF6",
            "gridcolor": "white",
            "gridwidth": 2,
            "linecolor": "white",
            "showbackground": true,
            "ticks": "",
            "zerolinecolor": "white"
           },
           "zaxis": {
            "backgroundcolor": "#E5ECF6",
            "gridcolor": "white",
            "gridwidth": 2,
            "linecolor": "white",
            "showbackground": true,
            "ticks": "",
            "zerolinecolor": "white"
           }
          },
          "shapedefaults": {
           "line": {
            "color": "#2a3f5f"
           }
          },
          "ternary": {
           "aaxis": {
            "gridcolor": "white",
            "linecolor": "white",
            "ticks": ""
           },
           "baxis": {
            "gridcolor": "white",
            "linecolor": "white",
            "ticks": ""
           },
           "bgcolor": "#E5ECF6",
           "caxis": {
            "gridcolor": "white",
            "linecolor": "white",
            "ticks": ""
           }
          },
          "title": {
           "x": 0.05
          },
          "xaxis": {
           "automargin": true,
           "gridcolor": "white",
           "linecolor": "white",
           "ticks": "",
           "title": {
            "standoff": 15
           },
           "zerolinecolor": "white",
           "zerolinewidth": 2
          },
          "yaxis": {
           "automargin": true,
           "gridcolor": "white",
           "linecolor": "white",
           "ticks": "",
           "title": {
            "standoff": 15
           },
           "zerolinecolor": "white",
           "zerolinewidth": 2
          }
         }
        },
        "xaxis": {
         "anchor": "y",
         "autorange": true,
         "domain": [
          0,
          1
         ],
         "range": [
          -0.5139372822299652,
          3.513937282229965
         ],
         "title": {
          "text": "time-point"
         },
         "type": "category"
        },
        "yaxis": {
         "anchor": "x",
         "autorange": true,
         "domain": [
          0,
          1
         ],
         "range": [
          0.4501169806727898,
          5.042858227637319
         ],
         "title": {
          "text": "Fold Change"
         },
         "type": "linear"
        }
       }
      },
      "image/png": "[encoded data removed]",
      "text/html": [
       "<div>                            <div id=\"f850134a-53b2-4941-ae53-9ba3e9e4dddb\" class=\"plotly-graph-div\" style=\"height:525px; width:100%;\"></div>            <script type=\"text/javascript\">                require([\"plotly\"], function(Plotly) {                    window.PLOTLYENV=window.PLOTLYENV || {};                                    if (document.getElementById(\"f850134a-53b2-4941-ae53-9ba3e9e4dddb\")) {                    Plotly.newPlot(                        \"f850134a-53b2-4941-ae53-9ba3e9e4dddb\",                        [{\"alignmentgroup\": \"True\", \"boxpoints\": \"all\", \"fillcolor\": \"rgba(255,255,255,0)\", \"hoveron\": \"points\", \"hovertemplate\": \"Group=HIV + Tumor<br>time-point=%{x}<br>Fold Change=%{y}<extra></extra>\", \"legendgroup\": \"HIV + Tumor\", \"line\": {\"color\": \"rgba(255,255,255,0)\"}, \"marker\": {\"color\": \"#636efa\"}, \"name\": \"HIV + Tumor\", \"offsetgroup\": \"HIV + Tumor\", \"orientation\": \"v\", \"pointpos\": 0, \"showlegend\": true, \"type\": \"box\", \"x\": [\"Bleed 9-15\", \"Bleed 9-15\", \"Bleed 9-15\", \"Bleed 9-15\", \"Bleed 9-15\", \"Bleed 9-30\", \"Bleed 9-30\", \"Bleed 9-30\", \"Bleed 9-30\", \"Bleed 9-30\", \"Bleed 10-13\", \"Bleed 10-13\", \"Bleed 10-13\", \"Bleed 10-13\", \"Bleed 10-13\", \"Bleed 10-28\", \"Bleed 10-28\", \"Bleed 10-28\", \"Bleed 10-28\", \"Bleed 10-28\"], \"x0\": \" \", \"xaxis\": \"x\", \"y\": [0.6919915995597786, 1.3513684693093178, 1.0164133283918368, 1.457929318582794, 1.5128750938996716, 0.9874266144939107, 1.772513806792173, 1.2228118619654547, 2.18691738317586, 3.640257370617142, 1.7145752898219782, 4.057627068040517, 2.0265071891909465, 2.1438643864497497, 2.3704922320000246, 2.7354292704098095, 2.7812695280823383, 3.140158195461177, 2.076928196981623, 2.0507170155974084], \"y0\": \" \", \"yaxis\": \"y\"}, {\"alignmentgroup\": \"True\", \"boxpoints\": \"all\", \"fillcolor\": \"rgba(255,255,255,0)\", \"hoveron\": \"points\", \"hovertemplate\": \"Group=HIV + Tumor + ART<br>time-point=%{x}<br>Fold Change=%{y}<extra></extra>\", \"legendgroup\": \"HIV + Tumor + ART\", \"line\": {\"color\": \"rgba(255,255,255,0)\"}, \"marker\": {\"color\": \"#EF553B\"}, \"name\": \"HIV + Tumor + ART\", \"offsetgroup\": \"HIV + Tumor + ART\", \"orientation\": \"v\", \"pointpos\": 0, \"showlegend\": true, \"type\": \"box\", \"x\": [\"Bleed 9-15\", \"Bleed 9-15\", \"Bleed 9-15\", \"Bleed 9-15\", \"Bleed 9-15\", \"Bleed 9-15\", \"Bleed 9-15\", \"Bleed 9-15\", \"Bleed 9-15\", \"Bleed 9-15\", \"Bleed 9-15\", \"Bleed 9-30\", \"Bleed 9-30\", \"Bleed 9-30\", \"Bleed 9-30\", \"Bleed 9-30\", \"Bleed 9-30\", \"Bleed 9-30\", \"Bleed 9-30\", \"Bleed 9-30\", \"Bleed 9-30\", \"Bleed 9-30\", \"Bleed 9-30\", \"Bleed 10-13\", \"Bleed 10-13\", \"Bleed 10-13\", \"Bleed 10-13\", \"Bleed 10-13\", \"Bleed 10-13\", \"Bleed 10-13\", \"Bleed 10-13\", \"Bleed 10-13\", \"Bleed 10-13\", \"Bleed 10-13\", \"Bleed 10-28\", \"Bleed 10-28\", \"Bleed 10-28\", \"Bleed 10-28\", \"Bleed 10-28\", \"Bleed 10-28\", \"Bleed 10-28\", \"Bleed 10-28\", \"Bleed 10-28\", \"Bleed 10-28\", \"Bleed 10-28\"], \"x0\": \" \", \"xaxis\": \"x\", \"y\": [1.1339790638182932, 0.7666997756724335, 0.7450983666442248, 0.7548949876997189, 0.9462643613665213, 1.475652331135529, 0.7848396988134301, 1.0141072577107277, 1.655109059154523, 1.5065465850120767, 1.2752194001655985, 0.9559934746080193, 0.6990296210695308, 1.3917463626704463, 0.9725335308123155, 0.9683606817175663, 0.6797540430210163, 1.372020773392812, 0.9339760251690645, 2.917883944858772, 2.355978831168597, 1.8607719401332912, 1.8433036636013804, 1.485954378355407, 0.8188959902283733, 1.2690779876295049, 1.1999427019413684, 0.9452095702556771, 1.0187890536275699, 1.4322262456312207, 1.3380516132563425, 1.7264939093297476, 1.2029462982873451, 2.179515435753983, 2.1856086679448885, 0.7809653453847709, 2.1080567341071443, 1.3647178962164757, 1.6905797488758632, 1.897733826594874, 3.207345662504396, 1.8755580688265159, 1.8943520910136578, 0.8803310725589054, 1.7164721536613485], \"y0\": \" \", \"yaxis\": \"y\"}, {\"alignmentgroup\": \"True\", \"boxpoints\": \"all\", \"fillcolor\": \"rgba(255,255,255,0)\", \"hoveron\": \"points\", \"hovertemplate\": \"Group=HIV<br>time-point=%{x}<br>Fold Change=%{y}<extra></extra>\", \"legendgroup\": \"HIV\", \"line\": {\"color\": \"rgba(255,255,255,0)\"}, \"marker\": {\"color\": \"#00cc96\"}, \"name\": \"HIV\", \"offsetgroup\": \"HIV\", \"orientation\": \"v\", \"pointpos\": 0, \"showlegend\": true, \"type\": \"box\", \"x\": [\"Bleed 9-15\", \"Bleed 9-15\", \"Bleed 9-15\", \"Bleed 9-15\", \"Bleed 9-15\", \"Bleed 9-30\", \"Bleed 9-30\", \"Bleed 9-30\", \"Bleed 9-30\", \"Bleed 9-30\", \"Bleed 10-13\", \"Bleed 10-13\", \"Bleed 10-13\", \"Bleed 10-13\", \"Bleed 10-13\", \"Bleed 10-28\", \"Bleed 10-28\", \"Bleed 10-28\", \"Bleed 10-28\", \"Bleed 10-28\"], \"x0\": \" \", \"xaxis\": \"x\", \"y\": [0.7683267149433669, 1.4215244740613342, 1.0216277171706174, 2.0119873250528872, 1.001025252827159, 1.1880483938505615, 1.8467910291494132, 1.3301307788730763, 4.813221165289092, 1.36967819904489, 1.4254417777699318, 2.4969504310561277, 1.729699123576073, 2.778029576340055, 2.4193665927029455, 2.2618611281269585, 2.9590227360489583, 2.4435101095472067, 2.4531240146084095, 4.642767393135864], \"y0\": \" \", \"yaxis\": \"y\"}, {\"alignmentgroup\": \"True\", \"boxpoints\": \"all\", \"fillcolor\": \"rgba(255,255,255,0)\", \"hoveron\": \"points\", \"hovertemplate\": \"Group=Tumor only<br>time-point=%{x}<br>Fold Change=%{y}<extra></extra>\", \"legendgroup\": \"Tumor only\", \"line\": {\"color\": \"rgba(255,255,255,0)\"}, \"marker\": {\"color\": \"#ab63fa\"}, \"name\": \"Tumor only\", \"offsetgroup\": \"Tumor only\", \"orientation\": \"v\", \"pointpos\": 0, \"showlegend\": true, \"type\": \"box\", \"x\": [\"Bleed 9-15\", \"Bleed 9-15\", \"Bleed 9-15\", \"Bleed 9-30\", \"Bleed 9-30\", \"Bleed 9-30\", \"Bleed 10-13\", \"Bleed 10-13\", \"Bleed 10-13\", \"Bleed 10-28\", \"Bleed 10-28\", \"Bleed 10-28\"], \"x0\": \" \", \"xaxis\": \"x\", \"y\": [0.9186067775972805, 0.961440178856361, 0.9303123229836379, 1.0079071401378812, 0.9292839564453099, 1.0831512678514899, 1.2290932912792614, 1.0439775546276528, 1.5625254322317021, 1.3140719719839675, 1.9576905034426724, 1.0753194710352405], \"y0\": \" \", \"yaxis\": \"y\"}, {\"alignmentgroup\": \"True\", \"boxpoints\": \"all\", \"fillcolor\": \"rgba(255,255,255,0)\", \"hoveron\": \"points\", \"hovertemplate\": \"Group=Uninfected Control<br>time-point=%{x}<br>Fold Change=%{y}<extra></extra>\", \"legendgroup\": \"Uninfected Control\", \"line\": {\"color\": \"rgba(255,255,255,0)\"}, \"marker\": {\"color\": \"#FFA15A\"}, \"name\": \"Uninfected Control\", \"offsetgroup\": \"Uninfected Control\", \"orientation\": \"v\", \"pointpos\": 0, \"showlegend\": true, \"type\": \"box\", \"x\": [\"Bleed 9-15\", \"Bleed 9-15\", \"Bleed 9-15\", \"Bleed 9-30\", \"Bleed 9-30\", \"Bleed 9-30\", \"Bleed 10-13\", \"Bleed 10-13\", \"Bleed 10-13\", \"Bleed 10-28\", \"Bleed 10-28\", \"Bleed 10-28\"], \"x0\": \" \", \"xaxis\": \"x\", \"y\": [0.6798336822853039, 1.5348235563841246, 0.9583824803896471, 0.8323992004207778, 1.3129138894249444, 0.9150231943030595, 0.8455240759722482, 0.8824732650523871, 1.3402087974478263, 1.0989503891356311, 0.9127376980672945, 0.9969558466954387], \"y0\": \" \", \"yaxis\": \"y\"}],                        {\"boxmode\": \"group\", \"legend\": {\"title\": {\"text\": \"Group\"}, \"tracegroupgap\": 0}, \"margin\": {\"t\": 60}, \"template\": {\"data\": {\"bar\": [{\"error_x\": {\"color\": \"#2a3f5f\"}, \"error_y\": {\"color\": \"#2a3f5f\"}, \"marker\": {\"line\": {\"color\": \"#E5ECF6\", \"width\": 0.5}}, \"type\": \"bar\"}], \"barpolar\": [{\"marker\": {\"line\": {\"color\": \"#E5ECF6\", \"width\": 0.5}}, \"type\": \"barpolar\"}], \"carpet\": [{\"aaxis\": {\"endlinecolor\": \"#2a3f5f\", \"gridcolor\": \"white\", \"linecolor\": \"white\", \"minorgridcolor\": \"white\", \"startlinecolor\": \"#2a3f5f\"}, \"baxis\": {\"endlinecolor\": \"#2a3f5f\", \"gridcolor\": \"white\", \"linecolor\": \"white\", \"minorgridcolor\": \"white\", \"startlinecolor\": \"#2a3f5f\"}, \"type\": \"carpet\"}], \"choropleth\": [{\"colorbar\": {\"outlinewidth\": 0, \"ticks\": \"\"}, \"type\": \"choropleth\"}], \"contour\": [{\"colorbar\": {\"outlinewidth\": 0, \"ticks\": \"\"}, \"colorscale\": [[0.0, \"#0d0887\"], [0.1111111111111111, \"#46039f\"], [0.2222222222222222, \"#7201a8\"], [0.3333333333333333, \"#9c179e\"], [0.4444444444444444, \"#bd3786\"], [0.5555555555555556, \"#d8576b\"], [0.6666666666666666, \"#ed7953\"], [0.7777777777777778, \"#fb9f3a\"], [0.8888888888888888, \"#fdca26\"], [1.0, \"#f0f921\"]], \"type\": \"contour\"}], \"contourcarpet\": [{\"colorbar\": {\"outlinewidth\": 0, \"ticks\": \"\"}, \"type\": \"contourcarpet\"}], \"heatmap\": [{\"colorbar\": {\"outlinewidth\": 0, \"ticks\": \"\"}, \"colorscale\": [[0.0, \"#0d0887\"], [0.1111111111111111, \"#46039f\"], [0.2222222222222222, \"#7201a8\"], [0.3333333333333333, \"#9c179e\"], [0.4444444444444444, \"#bd3786\"], [0.5555555555555556, \"#d8576b\"], [0.6666666666666666, \"#ed7953\"], [0.7777777777777778, \"#fb9f3a\"], [0.8888888888888888, \"#fdca26\"], [1.0, \"#f0f921\"]], \"type\": \"heatmap\"}], \"heatmapgl\": [{\"colorbar\": {\"outlinewidth\": 0, \"ticks\": \"\"}, \"colorscale\": [[0.0, \"#0d0887\"], [0.1111111111111111, \"#46039f\"], [0.2222222222222222, \"#7201a8\"], [0.3333333333333333, \"#9c179e\"], [0.4444444444444444, \"#bd3786\"], [0.5555555555555556, \"#d8576b\"], [0.6666666666666666, \"#ed7953\"], [0.7777777777777778, \"#fb9f3a\"], [0.8888888888888888, \"#fdca26\"], [1.0, \"#f0f921\"]], \"type\": \"heatmapgl\"}], \"histogram\": [{\"marker\": {\"colorbar\": {\"outlinewidth\": 0, \"ticks\": \"\"}}, \"type\": \"histogram\"}], \"histogram2d\": [{\"colorbar\": {\"outlinewidth\": 0, \"ticks\": \"\"}, \"colorscale\": [[0.0, \"#0d0887\"], [0.1111111111111111, \"#46039f\"], [0.2222222222222222, \"#7201a8\"], [0.3333333333333333, \"#9c179e\"], [0.4444444444444444, \"#bd3786\"], [0.5555555555555556, \"#d8576b\"], [0.6666666666666666, \"#ed7953\"], [0.7777777777777778, \"#fb9f3a\"], [0.8888888888888888, \"#fdca26\"], [1.0, \"#f0f921\"]], \"type\": \"histogram2d\"}], \"histogram2dcontour\": [{\"colorbar\": {\"outlinewidth\": 0, \"ticks\": \"\"}, \"colorscale\": [[0.0, \"#0d0887\"], [0.1111111111111111, \"#46039f\"], [0.2222222222222222, \"#7201a8\"], [0.3333333333333333, \"#9c179e\"], [0.4444444444444444, \"#bd3786\"], [0.5555555555555556, \"#d8576b\"], [0.6666666666666666, \"#ed7953\"], [0.7777777777777778, \"#fb9f3a\"], [0.8888888888888888, \"#fdca26\"], [1.0, \"#f0f921\"]], \"type\": \"histogram2dcontour\"}], \"mesh3d\": [{\"colorbar\": {\"outlinewidth\": 0, \"ticks\": \"\"}, \"type\": \"mesh3d\"}], \"parcoords\": [{\"line\": {\"colorbar\": {\"outlinewidth\": 0, \"ticks\": \"\"}}, \"type\": \"parcoords\"}], \"pie\": [{\"automargin\": true, \"type\": \"pie\"}], \"scatter\": [{\"marker\": {\"colorbar\": {\"outlinewidth\": 0, \"ticks\": \"\"}}, \"type\": \"scatter\"}], \"scatter3d\": [{\"line\": {\"colorbar\": {\"outlinewidth\": 0, \"ticks\": \"\"}}, \"marker\": {\"colorbar\": {\"outlinewidth\": 0, \"ticks\": \"\"}}, \"type\": \"scatter3d\"}], \"scattercarpet\": [{\"marker\": {\"colorbar\": {\"outlinewidth\": 0, \"ticks\": \"\"}}, \"type\": \"scattercarpet\"}], \"scattergeo\": [{\"marker\": {\"colorbar\": {\"outlinewidth\": 0, \"ticks\": \"\"}}, \"type\": \"scattergeo\"}], \"scattergl\": [{\"marker\": {\"colorbar\": {\"outlinewidth\": 0, \"ticks\": \"\"}}, \"type\": \"scattergl\"}], \"scattermapbox\": [{\"marker\": {\"colorbar\": {\"outlinewidth\": 0, \"ticks\": \"\"}}, \"type\": \"scattermapbox\"}], \"scatterpolar\": [{\"marker\": {\"colorbar\": {\"outlinewidth\": 0, \"ticks\": \"\"}}, \"type\": \"scatterpolar\"}], \"scatterpolargl\": [{\"marker\": {\"colorbar\": {\"outlinewidth\": 0, \"ticks\": \"\"}}, \"type\": \"scatterpolargl\"}], \"scatterternary\": [{\"marker\": {\"colorbar\": {\"outlinewidth\": 0, \"ticks\": \"\"}}, \"type\": \"scatterternary\"}], \"surface\": [{\"colorbar\": {\"outlinewidth\": 0, \"ticks\": \"\"}, \"colorscale\": [[0.0, \"#0d0887\"], [0.1111111111111111, \"#46039f\"], [0.2222222222222222, \"#7201a8\"], [0.3333333333333333, \"#9c179e\"], [0.4444444444444444, \"#bd3786\"], [0.5555555555555556, \"#d8576b\"], [0.6666666666666666, \"#ed7953\"], [0.7777777777777778, \"#fb9f3a\"], [0.8888888888888888, \"#fdca26\"], [1.0, \"#f0f921\"]], \"type\": \"surface\"}], \"table\": [{\"cells\": {\"fill\": {\"color\": \"#EBF0F8\"}, \"line\": {\"color\": \"white\"}}, \"header\": {\"fill\": {\"color\": \"#C8D4E3\"}, \"line\": {\"color\": \"white\"}}, \"type\": \"table\"}]}, \"layout\": {\"annotationdefaults\": {\"arrowcolor\": \"#2a3f5f\", \"arrowhead\": 0, \"arrowwidth\": 1}, \"coloraxis\": {\"colorbar\": {\"outlinewidth\": 0, \"ticks\": \"\"}}, \"colorscale\": {\"diverging\": [[0, \"#8e0152\"], [0.1, \"#c51b7d\"], [0.2, \"#de77ae\"], [0.3, \"#f1b6da\"], [0.4, \"#fde0ef\"], [0.5, \"#f7f7f7\"], [0.6, \"#e6f5d0\"], [0.7, \"#b8e186\"], [0.8, \"#7fbc41\"], [0.9, \"#4d9221\"], [1, \"#276419\"]], \"sequential\": [[0.0, \"#0d0887\"], [0.1111111111111111, \"#46039f\"], [0.2222222222222222, \"#7201a8\"], [0.3333333333333333, \"#9c179e\"], [0.4444444444444444, \"#bd3786\"], [0.5555555555555556, \"#d8576b\"], [0.6666666666666666, \"#ed7953\"], [0.7777777777777778, \"#fb9f3a\"], [0.8888888888888888, \"#fdca26\"], [1.0, \"#f0f921\"]], \"sequentialminus\": [[0.0, \"#0d0887\"], [0.1111111111111111, \"#46039f\"], [0.2222222222222222, \"#7201a8\"], [0.3333333333333333, \"#9c179e\"], [0.4444444444444444, \"#bd3786\"], [0.5555555555555556, \"#d8576b\"], [0.6666666666666666, \"#ed7953\"], [0.7777777777777778, \"#fb9f3a\"], [0.8888888888888888, \"#fdca26\"], [1.0, \"#f0f921\"]]}, \"colorway\": [\"#636efa\", \"#EF553B\", \"#00cc96\", \"#ab63fa\", \"#FFA15A\", \"#19d3f3\", \"#FF6692\", \"#B6E880\", \"#FF97FF\", \"#FECB52\"], \"font\": {\"color\": \"#2a3f5f\"}, \"geo\": {\"bgcolor\": \"white\", \"lakecolor\": \"white\", \"landcolor\": \"#E5ECF6\", \"showlakes\": true, \"showland\": true, \"subunitcolor\": \"white\"}, \"hoverlabel\": {\"align\": \"left\"}, \"hovermode\": \"closest\", \"mapbox\": {\"style\": \"light\"}, \"paper_bgcolor\": \"white\", \"plot_bgcolor\": \"#E5ECF6\", \"polar\": {\"angularaxis\": {\"gridcolor\": \"white\", \"linecolor\": \"white\", \"ticks\": \"\"}, \"bgcolor\": \"#E5ECF6\", \"radialaxis\": {\"gridcolor\": \"white\", \"linecolor\": \"white\", \"ticks\": \"\"}}, \"scene\": {\"xaxis\": {\"backgroundcolor\": \"#E5ECF6\", \"gridcolor\": \"white\", \"gridwidth\": 2, \"linecolor\": \"white\", \"showbackground\": true, \"ticks\": \"\", \"zerolinecolor\": \"white\"}, \"yaxis\": {\"backgroundcolor\": \"#E5ECF6\", \"gridcolor\": \"white\", \"gridwidth\": 2, \"linecolor\": \"white\", \"showbackground\": true, \"ticks\": \"\", \"zerolinecolor\": \"white\"}, \"zaxis\": {\"backgroundcolor\": \"#E5ECF6\", \"gridcolor\": \"white\", \"gridwidth\": 2, \"linecolor\": \"white\", \"showbackground\": true, \"ticks\": \"\", \"zerolinecolor\": \"white\"}}, \"shapedefaults\": {\"line\": {\"color\": \"#2a3f5f\"}}, \"ternary\": {\"aaxis\": {\"gridcolor\": \"white\", \"linecolor\": \"white\", \"ticks\": \"\"}, \"baxis\": {\"gridcolor\": \"white\", \"linecolor\": \"white\", \"ticks\": \"\"}, \"bgcolor\": \"#E5ECF6\", \"caxis\": {\"gridcolor\": \"white\", \"linecolor\": \"white\", \"ticks\": \"\"}}, \"title\": {\"x\": 0.05}, \"xaxis\": {\"automargin\": true, \"gridcolor\": \"white\", \"linecolor\": \"white\", \"ticks\": \"\", \"title\": {\"standoff\": 15}, \"zerolinecolor\": \"white\", \"zerolinewidth\": 2}, \"yaxis\": {\"automargin\": true, \"gridcolor\": \"white\", \"linecolor\": \"white\", \"ticks\": \"\", \"title\": {\"standoff\": 15}, \"zerolinecolor\": \"white\", \"zerolinewidth\": 2}}}, \"xaxis\": {\"anchor\": \"y\", \"domain\": [0.0, 1.0], \"title\": {\"text\": \"time-point\"}}, \"yaxis\": {\"anchor\": \"x\", \"domain\": [0.0, 1.0], \"title\": {\"text\": \"Fold Change\"}}},                        {\"responsive\": true}                    ).then(function(){\n",
       "                            \n",
       "var gd = document.getElementById('f850134a-53b2-4941-ae53-9ba3e9e4dddb');\n",
       "var x = new MutationObserver(function (mutations, observer) {{\n",
       "        var display = window.getComputedStyle(gd).display;\n",
       "        if (!display || display === 'none') {{\n",
       "            console.log([gd, 'removed!']);\n",
       "            Plotly.purge(gd);\n",
       "            observer.disconnect();\n",
       "        }}\n",
       "}});\n",
       "\n",
       "// Listen for the removal of the full notebook cells\n",
       "var notebookContainer = gd.closest('#notebook-container');\n",
       "if (notebookContainer) {{\n",
       "    x.observe(notebookContainer, {childList: true});\n",
       "}}\n",
       "\n",
       "// Listen for the clearing of the current output cell\n",
       "var outputEl = gd.closest('.output');\n",
       "if (outputEl) {{\n",
       "    x.observe(outputEl, {childList: true});\n",
       "}}\n",
       "\n",
       "                        })                };                });            </script>        </div>"
      ]
     },
     "metadata": {},
     "output_type": "display_data"
    }
   ],
   "source": [
    "fig = px.strip(df_B73delta, x=\"time-point\", y=\"Fold Change\", color=\"Group\")\n",
    "fig.show()"
   ]
  },
  {
   "cell_type": "code",
   "execution_count": null,
   "metadata": {},
   "outputs": [],
   "source": []
  }
 ],
 "metadata": {
  "kernelspec": {
   "display_name": "Python 3",
   "language": "python",
   "name": "python3"
  },
  "language_info": {
   "codemirror_mode": {
    "name": "ipython",
    "version": 3
   },
   "file_extension": ".py",
   "mimetype": "text/x-python",
   "name": "python",
   "nbconvert_exporter": "python",
   "pygments_lexer": "ipython3",
   "version": "3.8.3"
  }
 },
 "nbformat": 4,
 "nbformat_minor": 4
}
